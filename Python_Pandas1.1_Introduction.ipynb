{
  "nbformat": 4,
  "nbformat_minor": 0,
  "metadata": {
    "anaconda-cloud": {},
    "kernelspec": {
      "display_name": "Python [conda root]",
      "language": "python",
      "name": "conda-root-py"
    },
    "language_info": {
      "codemirror_mode": {
        "name": "ipython",
        "version": 3
      },
      "file_extension": ".py",
      "mimetype": "text/x-python",
      "name": "python",
      "nbconvert_exporter": "python",
      "pygments_lexer": "ipython3",
      "version": "3.5.2"
    },
    "colab": {
      "name": "Python_Pandas1.1_Introduction",
      "provenance": [],
      "include_colab_link": true
    }
  },
  "cells": [
    {
      "cell_type": "markdown",
      "metadata": {
        "id": "view-in-github",
        "colab_type": "text"
      },
      "source": [
        "<a href=\"https://colab.research.google.com/github/krishbhowmick/Pandas_DataFrame/blob/main/Python_Pandas1.1_Introduction.ipynb\" target=\"_parent\"><img src=\"https://colab.research.google.com/assets/colab-badge.svg\" alt=\"Open In Colab\"/></a>"
      ]
    },
    {
      "cell_type": "markdown",
      "metadata": {
        "id": "aYt2WRksM2hx"
      },
      "source": [
        "For Pandas documentry go to this website-https://pandas.pydata.org/pandas-docs/version/0.25.3/\n",
        "\n",
        "geeksforgeeks-python-pandas-dataframe-- https://www.geeksforgeeks.org/python-pandas-dataframe/\n",
        "\n",
        "dataquest-pandas-cheat-sheet-- https://www.dataquest.io/blog/pandas-cheat-sheet/"
      ]
    },
    {
      "cell_type": "markdown",
      "metadata": {
        "id": "-52CIYKv1cya"
      },
      "source": [
        "# **Importing Data**\n",
        "Use these commands to import data from a variety of different sources and formats.\n",
        "\n",
        "* **pd.read_csv(filename) |** From a CSV file\n",
        "* **pd.read_table(filename) |** From a delimited text file (like TSV)\n",
        "* **pd.read_excel(filename) |** From an Excel file\n",
        "* **pd.read_sql(query, connection_object) |** Read from a SQL table/database\n",
        "* **pd.read_json(json_string) |** Read from a JSON formatted string, URL or file.\n",
        "* **pd.read_html(url) |** Parses an html URL, string or file and extracts tables to a list of dataframes\n",
        "* **pd.read_clipboard() |** Takes the contents of your clipboard and passes it to read_table()\n",
        "* **pd.DataFrame(dict) |** From a dict, keys for columns names, values for data as lists\n",
        "\n",
        "# **Exporting Data**\n",
        "Use these commands to export a DataFrame to CSV, .xlsx, SQL, or JSON.\n",
        "\n",
        "* **df.to_csv(filename) |** Write to a CSV file\n",
        "* **df.to_excel(filename) |** Write to an Excel file\n",
        "* **df.to_sql(table_name, connection_object) |** Write to a SQL table\n",
        "* **df.to_json(filename) |** Write to a file in JSON format\n",
        "\n",
        "# **Viewing/Inspecting Data**\n",
        "Use these commands to take a look at specific sections of your pandas DataFrame or Series.\n",
        "\n",
        "* **dtypes()**\tMethod returns a Series with the data type of each column. The result’s index is the original DataFrame’s columns\n",
        "* **columns()**\tMethod returns the column labels of the DataFrame\n",
        "* **sample()**\tMethod pulls out a random sample of rows or columns from a DataFrame\n",
        "* **values()**\tMethod returns a Numpy representation of the DataFrame i.e. only the values in the DataFrame will be returned, the axes labels will be removed\n",
        "* **df.head(n) |** First n rows of the DataFrame\n",
        "* **df.tail(n) |** Last n rows of the DataFrame\n",
        "* **df.shape |** Number of rows and columns\n",
        "* **df.info() |** Index, Datatype and Memory information\n",
        "* **df.describe() |** Summary statistics for numerical columns\n",
        "* **s.value_counts(dropna=False) |** View unique values and counts\n",
        "* **df.apply(pd.Series.value_counts) |** Unique values and counts for all columns\n",
        "* **df.count()** | Count non-NA cells for each column or row.\n",
        "* **df.size()** | Return an int representing the number of elements in this object.\n",
        "\n",
        "# **Statistics**\n",
        "Use these commands to perform various statistical tests. (These can all be applied to a series as well.)\n",
        "\n",
        "* **df.describe() |** Summary statistics for numerical columns\n",
        "* **df.mean() |** Returns the mean of all columns\n",
        "* **df.corr() |** Returns the correlation between columns in a DataFrame\n",
        "* **df.count() |** Returns the number of non-null values in each DataFrame column\n",
        "* **df.max() |** Returns the highest value in each column\n",
        "* **df.min() |** Returns the lowest value in each column\n",
        "* **df.median() |** Returns the median of each column\n",
        "* **df.std() |** Returns the standard deviation of each column\n",
        "\n",
        "# **Selection**\n",
        "Use these commands to select a specific subset of your data.\n",
        "\n",
        "* **df[col] |** Returns column with label col as Series\n",
        "* **df[[col1, col2]] |** Returns columns as a new DataFrame\n",
        "* **s.iloc[0] |** Selection by position\n",
        "* **s.loc['index_one'] |** Selection by index\n",
        "* **df.iloc[0,:] |** First row\n",
        "* **df.iloc[0,0] |** First element of first column\n",
        "* **loc[]**\tMethod retrieves rows based on index label\n",
        "* **iloc[]**\tMethod retrieves rows based on index position\n",
        "* **ix[]**\tMethod retrieves DataFrame rows based on either index label or index position. This method combines the best features of the .loc[] and .iloc[] methods\n",
        "\n",
        "# **Copy**\n",
        "* **copy()**  Method creates an independent copy of a pandas object\n",
        "___________\n",
        "________\n",
        "--------------------------------------------------------------------\n",
        "---------------------------------------------------------------------\n",
        "--------------------------------------------------------------------\n",
        "-----------------------------------------------------------------\n",
        "--------------------------------------------------------------------\n",
        "\n",
        "* **axes()**\tMethod returns a list representing the axes of the DataFrame\n",
        "* **isin()**\tMethod extracts rows from a DataFrame where a column value exists in a predefined collection ****\n",
        "* **astype()**\tMethod converts the data types in a Series\n",
        "* **ndim()**\tMethod returns an ‘int’ representing the number of axes / array dimensions.\n",
        "Returns 1 if Series, otherwise returns 2 if DataFrame\n",
        "\n"
      ]
    },
    {
      "cell_type": "code",
      "metadata": {
        "id": "A2sJGgF_DJ0b",
        "colab": {
          "base_uri": "https://localhost:8080/"
        },
        "outputId": "f3678fb3-faaf-472c-f0ff-6a36546da4f9"
      },
      "source": [
        "# Connect the google drive with google Colab\n",
        "\n",
        "from google.colab import drive\n",
        "drive.mount('/content/drive/')"
      ],
      "execution_count": null,
      "outputs": [
        {
          "output_type": "stream",
          "text": [
            "Mounted at /content/drive/\n"
          ],
          "name": "stdout"
        }
      ]
    },
    {
      "cell_type": "markdown",
      "metadata": {
        "id": "IEDo3QiE6f_M"
      },
      "source": [
        "# **Importing Data**\n",
        "Use these commands to import data from a variety of different sources and formats.\n",
        "\n",
        "* **pd.read_csv(filename) |** From a CSV file\n",
        "* **pd.read_table(filename) |** From a delimited text file (like TSV)\n",
        "* **pd.read_excel(filename) |** From an Excel file\n",
        "* **pd.read_sql(query, connection_object) |** Read from a SQL table/database\n",
        "* **pd.read_json(json_string) |** Read from a JSON formatted string, URL or file.\n",
        "* **pd.read_html(url) |** Parses an html URL, string or file and extracts tables to a list of dataframes\n",
        "* **pd.read_clipboard() |** Takes the contents of your clipboard and passes it to read_table()\n",
        "* **pd.DataFrame(dict) |** From a dict, keys for columns names, values for data as lists"
      ]
    },
    {
      "cell_type": "code",
      "metadata": {
        "id": "f7T6zdKxXcgy"
      },
      "source": [
        "import pandas as pd "
      ],
      "execution_count": null,
      "outputs": []
    },
    {
      "cell_type": "code",
      "metadata": {
        "id": "wHa26k_v7RZq",
        "colab": {
          "base_uri": "https://localhost:8080/",
          "height": 142
        },
        "outputId": "791e70f8-2c98-442b-bfcc-03ccfd848d30"
      },
      "source": [
        "#Using csv\n",
        "df = pd.read_csv(\"/content/drive/MyDrive/Python/pandas/3_creating_dataframe/weather_data.csv\")\n",
        "df"
      ],
      "execution_count": null,
      "outputs": [
        {
          "output_type": "execute_result",
          "data": {
            "text/html": [
              "<div>\n",
              "<style scoped>\n",
              "    .dataframe tbody tr th:only-of-type {\n",
              "        vertical-align: middle;\n",
              "    }\n",
              "\n",
              "    .dataframe tbody tr th {\n",
              "        vertical-align: top;\n",
              "    }\n",
              "\n",
              "    .dataframe thead th {\n",
              "        text-align: right;\n",
              "    }\n",
              "</style>\n",
              "<table border=\"1\" class=\"dataframe\">\n",
              "  <thead>\n",
              "    <tr style=\"text-align: right;\">\n",
              "      <th></th>\n",
              "      <th>day</th>\n",
              "      <th>temperature</th>\n",
              "      <th>windspeed</th>\n",
              "      <th>event</th>\n",
              "    </tr>\n",
              "  </thead>\n",
              "  <tbody>\n",
              "    <tr>\n",
              "      <th>0</th>\n",
              "      <td>1/1/2017</td>\n",
              "      <td>32</td>\n",
              "      <td>6</td>\n",
              "      <td>Rain</td>\n",
              "    </tr>\n",
              "    <tr>\n",
              "      <th>1</th>\n",
              "      <td>1/2/2017</td>\n",
              "      <td>35</td>\n",
              "      <td>7</td>\n",
              "      <td>Sunny</td>\n",
              "    </tr>\n",
              "    <tr>\n",
              "      <th>2</th>\n",
              "      <td>1/3/2017</td>\n",
              "      <td>28</td>\n",
              "      <td>2</td>\n",
              "      <td>Snow</td>\n",
              "    </tr>\n",
              "  </tbody>\n",
              "</table>\n",
              "</div>"
            ],
            "text/plain": [
              "        day  temperature  windspeed  event\n",
              "0  1/1/2017           32          6   Rain\n",
              "1  1/2/2017           35          7  Sunny\n",
              "2  1/3/2017           28          2   Snow"
            ]
          },
          "metadata": {
            "tags": []
          },
          "execution_count": 4
        }
      ]
    },
    {
      "cell_type": "code",
      "metadata": {
        "id": "d3XPe6Lu7Rfb",
        "colab": {
          "base_uri": "https://localhost:8080/",
          "height": 142
        },
        "outputId": "da04d32e-d4da-481f-af63-4a3f18ee8e00"
      },
      "source": [
        "#Using excel\n",
        "df=pd.read_excel(\"/content/drive/MyDrive/Python/pandas/3_creating_dataframe/weather_data.xlsx\",\"Sheet1\")\n",
        "df"
      ],
      "execution_count": null,
      "outputs": [
        {
          "output_type": "execute_result",
          "data": {
            "text/html": [
              "<div>\n",
              "<style scoped>\n",
              "    .dataframe tbody tr th:only-of-type {\n",
              "        vertical-align: middle;\n",
              "    }\n",
              "\n",
              "    .dataframe tbody tr th {\n",
              "        vertical-align: top;\n",
              "    }\n",
              "\n",
              "    .dataframe thead th {\n",
              "        text-align: right;\n",
              "    }\n",
              "</style>\n",
              "<table border=\"1\" class=\"dataframe\">\n",
              "  <thead>\n",
              "    <tr style=\"text-align: right;\">\n",
              "      <th></th>\n",
              "      <th>day</th>\n",
              "      <th>temperature</th>\n",
              "      <th>windspeed</th>\n",
              "      <th>event</th>\n",
              "    </tr>\n",
              "  </thead>\n",
              "  <tbody>\n",
              "    <tr>\n",
              "      <th>0</th>\n",
              "      <td>2017-01-01</td>\n",
              "      <td>32</td>\n",
              "      <td>6</td>\n",
              "      <td>Rain</td>\n",
              "    </tr>\n",
              "    <tr>\n",
              "      <th>1</th>\n",
              "      <td>2017-01-02</td>\n",
              "      <td>35</td>\n",
              "      <td>7</td>\n",
              "      <td>Sunny</td>\n",
              "    </tr>\n",
              "    <tr>\n",
              "      <th>2</th>\n",
              "      <td>2017-01-03</td>\n",
              "      <td>28</td>\n",
              "      <td>2</td>\n",
              "      <td>Snow</td>\n",
              "    </tr>\n",
              "  </tbody>\n",
              "</table>\n",
              "</div>"
            ],
            "text/plain": [
              "         day  temperature  windspeed  event\n",
              "0 2017-01-01           32          6   Rain\n",
              "1 2017-01-02           35          7  Sunny\n",
              "2 2017-01-03           28          2   Snow"
            ]
          },
          "metadata": {
            "tags": []
          },
          "execution_count": 5
        }
      ]
    },
    {
      "cell_type": "markdown",
      "metadata": {
        "id": "Y-NtjKae8HCs"
      },
      "source": [
        "# **Exporting Data**\n",
        "Use these commands to export a DataFrame to CSV, .xlsx, SQL, or JSON.\n",
        "\n",
        "* **df.to_csv(filename) |** Write to a CSV file\n",
        "* **df.to_excel(filename) |** Write to an Excel file\n",
        "* **df.to_sql(table_name, connection_object) |** Write to a SQL table\n",
        "* **df.to_json(filename) |** Write to a file in JSON format\n",
        "\n",
        "##### <font color=\"blue\">Write to CSV</color>\n",
        "Pandas DataFrame to_csv() function converts DataFrame into CSV data. We can pass a file object to write the CSV data into a file. Otherwise, the CSV data is returned in the string format.\n",
        "##### <font color=\"blue\">Write to Excel</color>\n",
        "The to_excel() method is used to export the DataFrame to the excel file. To write a single object to the excel file, we have to specify the target file name.\n"
      ]
    },
    {
      "cell_type": "code",
      "metadata": {
        "id": "3ARrmu5C7SAs"
      },
      "source": [
        ""
      ],
      "execution_count": null,
      "outputs": []
    },
    {
      "cell_type": "code",
      "metadata": {
        "id": "rYu3-tv97SGv"
      },
      "source": [
        ""
      ],
      "execution_count": null,
      "outputs": []
    },
    {
      "cell_type": "markdown",
      "metadata": {
        "id": "emmDsmsOjeWQ"
      },
      "source": [
        "### **DataFrame**\n",
        "* pd.DataFrame( dictionary_data )"
      ]
    },
    {
      "cell_type": "code",
      "metadata": {
        "colab": {
          "base_uri": "https://localhost:8080/",
          "height": 142
        },
        "id": "YwbIXxS-jhXA",
        "outputId": "bb00f186-e408-4aa6-ff79-8ca36c58dfe7"
      },
      "source": [
        "#Using dictionary\n",
        "import pandas as pd\n",
        "weather_data = {\n",
        "    'day': ['1/1/2017','1/2/2017','1/3/2017'],\n",
        "    'temperature': [32,35,28],\n",
        "    'windspeed': [6,7,2],\n",
        "    'event': ['Rain', 'Sunny', 'Snow']\n",
        "}\n",
        "df = pd.DataFrame(weather_data)\n",
        "df\n"
      ],
      "execution_count": null,
      "outputs": [
        {
          "output_type": "execute_result",
          "data": {
            "text/html": [
              "<div>\n",
              "<style scoped>\n",
              "    .dataframe tbody tr th:only-of-type {\n",
              "        vertical-align: middle;\n",
              "    }\n",
              "\n",
              "    .dataframe tbody tr th {\n",
              "        vertical-align: top;\n",
              "    }\n",
              "\n",
              "    .dataframe thead th {\n",
              "        text-align: right;\n",
              "    }\n",
              "</style>\n",
              "<table border=\"1\" class=\"dataframe\">\n",
              "  <thead>\n",
              "    <tr style=\"text-align: right;\">\n",
              "      <th></th>\n",
              "      <th>day</th>\n",
              "      <th>temperature</th>\n",
              "      <th>windspeed</th>\n",
              "      <th>event</th>\n",
              "    </tr>\n",
              "  </thead>\n",
              "  <tbody>\n",
              "    <tr>\n",
              "      <th>0</th>\n",
              "      <td>1/1/2017</td>\n",
              "      <td>32</td>\n",
              "      <td>6</td>\n",
              "      <td>Rain</td>\n",
              "    </tr>\n",
              "    <tr>\n",
              "      <th>1</th>\n",
              "      <td>1/2/2017</td>\n",
              "      <td>35</td>\n",
              "      <td>7</td>\n",
              "      <td>Sunny</td>\n",
              "    </tr>\n",
              "    <tr>\n",
              "      <th>2</th>\n",
              "      <td>1/3/2017</td>\n",
              "      <td>28</td>\n",
              "      <td>2</td>\n",
              "      <td>Snow</td>\n",
              "    </tr>\n",
              "  </tbody>\n",
              "</table>\n",
              "</div>"
            ],
            "text/plain": [
              "        day  temperature  windspeed  event\n",
              "0  1/1/2017           32          6   Rain\n",
              "1  1/2/2017           35          7  Sunny\n",
              "2  1/3/2017           28          2   Snow"
            ]
          },
          "metadata": {
            "tags": []
          },
          "execution_count": 6
        }
      ]
    },
    {
      "cell_type": "code",
      "metadata": {
        "colab": {
          "base_uri": "https://localhost:8080/",
          "height": 235
        },
        "id": "uCzsoa1vmTjF",
        "outputId": "ce97de27-19b7-4c5a-93e0-5fa2ec2b55cd"
      },
      "source": [
        "# How to make a DataFrame using Dictanary\n",
        "weather_data = {\n",
        "    'day': ['1/1/2017','1/2/2017','1/3/2017','1/4/2017','1/5/2017','1/6/2017'],\n",
        "    'temperature': [32,35,28,24,32,31],\n",
        "    'windspeed': [6,7,2,7,4,2],\n",
        "    'event': ['Rain', 'Sunny', 'Snow','Snow','Rain', 'Sunny']\n",
        "}\n",
        "df = pd.DataFrame(weather_data)\n",
        "df\n"
      ],
      "execution_count": null,
      "outputs": [
        {
          "output_type": "execute_result",
          "data": {
            "text/html": [
              "<div>\n",
              "<style scoped>\n",
              "    .dataframe tbody tr th:only-of-type {\n",
              "        vertical-align: middle;\n",
              "    }\n",
              "\n",
              "    .dataframe tbody tr th {\n",
              "        vertical-align: top;\n",
              "    }\n",
              "\n",
              "    .dataframe thead th {\n",
              "        text-align: right;\n",
              "    }\n",
              "</style>\n",
              "<table border=\"1\" class=\"dataframe\">\n",
              "  <thead>\n",
              "    <tr style=\"text-align: right;\">\n",
              "      <th></th>\n",
              "      <th>day</th>\n",
              "      <th>temperature</th>\n",
              "      <th>windspeed</th>\n",
              "      <th>event</th>\n",
              "    </tr>\n",
              "  </thead>\n",
              "  <tbody>\n",
              "    <tr>\n",
              "      <th>0</th>\n",
              "      <td>1/1/2017</td>\n",
              "      <td>32</td>\n",
              "      <td>6</td>\n",
              "      <td>Rain</td>\n",
              "    </tr>\n",
              "    <tr>\n",
              "      <th>1</th>\n",
              "      <td>1/2/2017</td>\n",
              "      <td>35</td>\n",
              "      <td>7</td>\n",
              "      <td>Sunny</td>\n",
              "    </tr>\n",
              "    <tr>\n",
              "      <th>2</th>\n",
              "      <td>1/3/2017</td>\n",
              "      <td>28</td>\n",
              "      <td>2</td>\n",
              "      <td>Snow</td>\n",
              "    </tr>\n",
              "    <tr>\n",
              "      <th>3</th>\n",
              "      <td>1/4/2017</td>\n",
              "      <td>24</td>\n",
              "      <td>7</td>\n",
              "      <td>Snow</td>\n",
              "    </tr>\n",
              "    <tr>\n",
              "      <th>4</th>\n",
              "      <td>1/5/2017</td>\n",
              "      <td>32</td>\n",
              "      <td>4</td>\n",
              "      <td>Rain</td>\n",
              "    </tr>\n",
              "    <tr>\n",
              "      <th>5</th>\n",
              "      <td>1/6/2017</td>\n",
              "      <td>31</td>\n",
              "      <td>2</td>\n",
              "      <td>Sunny</td>\n",
              "    </tr>\n",
              "  </tbody>\n",
              "</table>\n",
              "</div>"
            ],
            "text/plain": [
              "        day  temperature  windspeed  event\n",
              "0  1/1/2017           32          6   Rain\n",
              "1  1/2/2017           35          7  Sunny\n",
              "2  1/3/2017           28          2   Snow\n",
              "3  1/4/2017           24          7   Snow\n",
              "4  1/5/2017           32          4   Rain\n",
              "5  1/6/2017           31          2  Sunny"
            ]
          },
          "metadata": {
            "tags": []
          },
          "execution_count": 7
        }
      ]
    },
    {
      "cell_type": "code",
      "metadata": {
        "colab": {
          "base_uri": "https://localhost:8080/",
          "height": 142
        },
        "id": "d9-DkMCmmTYA",
        "outputId": "64ebd588-425e-4d8c-dbf2-9febc614a956"
      },
      "source": [
        "#Using list of dictionaries\n",
        "weather_data = [\n",
        "    {'day': '1/1/2017', 'temperature': 32, 'windspeed': 6, 'event': 'Rain'},\n",
        "    {'day': '1/2/2017', 'temperature': 35, 'windspeed': 7, 'event': 'Sunny'},\n",
        "    {'day': '1/3/2017', 'temperature': 28, 'windspeed': 2, 'event': 'Snow'},\n",
        "    \n",
        "]\n",
        "df = pd.DataFrame(data=weather_data, columns=['day','temperature','windspeed','event'])\n",
        "df\n"
      ],
      "execution_count": null,
      "outputs": [
        {
          "output_type": "execute_result",
          "data": {
            "text/html": [
              "<div>\n",
              "<style scoped>\n",
              "    .dataframe tbody tr th:only-of-type {\n",
              "        vertical-align: middle;\n",
              "    }\n",
              "\n",
              "    .dataframe tbody tr th {\n",
              "        vertical-align: top;\n",
              "    }\n",
              "\n",
              "    .dataframe thead th {\n",
              "        text-align: right;\n",
              "    }\n",
              "</style>\n",
              "<table border=\"1\" class=\"dataframe\">\n",
              "  <thead>\n",
              "    <tr style=\"text-align: right;\">\n",
              "      <th></th>\n",
              "      <th>day</th>\n",
              "      <th>temperature</th>\n",
              "      <th>windspeed</th>\n",
              "      <th>event</th>\n",
              "    </tr>\n",
              "  </thead>\n",
              "  <tbody>\n",
              "    <tr>\n",
              "      <th>0</th>\n",
              "      <td>1/1/2017</td>\n",
              "      <td>32</td>\n",
              "      <td>6</td>\n",
              "      <td>Rain</td>\n",
              "    </tr>\n",
              "    <tr>\n",
              "      <th>1</th>\n",
              "      <td>1/2/2017</td>\n",
              "      <td>35</td>\n",
              "      <td>7</td>\n",
              "      <td>Sunny</td>\n",
              "    </tr>\n",
              "    <tr>\n",
              "      <th>2</th>\n",
              "      <td>1/3/2017</td>\n",
              "      <td>28</td>\n",
              "      <td>2</td>\n",
              "      <td>Snow</td>\n",
              "    </tr>\n",
              "  </tbody>\n",
              "</table>\n",
              "</div>"
            ],
            "text/plain": [
              "        day  temperature  windspeed  event\n",
              "0  1/1/2017           32          6   Rain\n",
              "1  1/2/2017           35          7  Sunny\n",
              "2  1/3/2017           28          2   Snow"
            ]
          },
          "metadata": {
            "tags": []
          },
          "execution_count": 8
        }
      ]
    },
    {
      "cell_type": "code",
      "metadata": {
        "colab": {
          "base_uri": "https://localhost:8080/",
          "height": 142
        },
        "id": "1VvpOn5jmTO0",
        "outputId": "e48e14a3-6f63-4e36-dfdf-f6a63624d810"
      },
      "source": [
        "#Using tuples list\n",
        "weather_data = [\n",
        "    ('1/1/2017',32,6,'Rain'),\n",
        "    ('1/2/2017',35,7,'Sunny'),\n",
        "    ('1/3/2017',28,2,'Snow')\n",
        "]\n",
        "df = pd.DataFrame(data=weather_data, columns=['day','temperature','windspeed','event'])\n",
        "df\n"
      ],
      "execution_count": null,
      "outputs": [
        {
          "output_type": "execute_result",
          "data": {
            "text/html": [
              "<div>\n",
              "<style scoped>\n",
              "    .dataframe tbody tr th:only-of-type {\n",
              "        vertical-align: middle;\n",
              "    }\n",
              "\n",
              "    .dataframe tbody tr th {\n",
              "        vertical-align: top;\n",
              "    }\n",
              "\n",
              "    .dataframe thead th {\n",
              "        text-align: right;\n",
              "    }\n",
              "</style>\n",
              "<table border=\"1\" class=\"dataframe\">\n",
              "  <thead>\n",
              "    <tr style=\"text-align: right;\">\n",
              "      <th></th>\n",
              "      <th>day</th>\n",
              "      <th>temperature</th>\n",
              "      <th>windspeed</th>\n",
              "      <th>event</th>\n",
              "    </tr>\n",
              "  </thead>\n",
              "  <tbody>\n",
              "    <tr>\n",
              "      <th>0</th>\n",
              "      <td>1/1/2017</td>\n",
              "      <td>32</td>\n",
              "      <td>6</td>\n",
              "      <td>Rain</td>\n",
              "    </tr>\n",
              "    <tr>\n",
              "      <th>1</th>\n",
              "      <td>1/2/2017</td>\n",
              "      <td>35</td>\n",
              "      <td>7</td>\n",
              "      <td>Sunny</td>\n",
              "    </tr>\n",
              "    <tr>\n",
              "      <th>2</th>\n",
              "      <td>1/3/2017</td>\n",
              "      <td>28</td>\n",
              "      <td>2</td>\n",
              "      <td>Snow</td>\n",
              "    </tr>\n",
              "  </tbody>\n",
              "</table>\n",
              "</div>"
            ],
            "text/plain": [
              "        day  temperature  windspeed  event\n",
              "0  1/1/2017           32          6   Rain\n",
              "1  1/2/2017           35          7  Sunny\n",
              "2  1/3/2017           28          2   Snow"
            ]
          },
          "metadata": {
            "tags": []
          },
          "execution_count": 9
        }
      ]
    },
    {
      "cell_type": "markdown",
      "metadata": {
        "id": "YdYfT0RA9nty"
      },
      "source": [
        "### **Header Operation**"
      ]
    },
    {
      "cell_type": "code",
      "metadata": {
        "id": "bSw6acksKq18"
      },
      "source": [
        "# Skip the first row---\n",
        "\n",
        "df = pd.read_csv(\"/content/drive/MyDrive/Python/pandas/4_read_write_to_excel/stock_data.csv\", skiprows=1)\n",
        "df"
      ],
      "execution_count": null,
      "outputs": []
    },
    {
      "cell_type": "code",
      "metadata": {
        "id": "8zLJ2TZDKq4H"
      },
      "source": [
        "# skiprows and header are kind of same\n",
        "\n",
        "df = pd.read_csv(\"/content/drive/MyDrive/Python/pandas/4_read_write_to_excel/stock_data.csv\", header=1) \n",
        "df"
      ],
      "execution_count": null,
      "outputs": []
    },
    {
      "cell_type": "code",
      "metadata": {
        "id": "60tZKP8uKq7t"
      },
      "source": [
        "# Missing header in CSV File\n",
        "\n",
        "df = pd.read_csv(\"/content/drive/MyDrive/Python/pandas/4_read_write_to_excel/stock_data.csv\", header=None, names = [\"ticker\",\"eps\",\"revenue\",\"people\"])\n",
        "df"
      ],
      "execution_count": null,
      "outputs": []
    },
    {
      "cell_type": "code",
      "metadata": {
        "id": "yrAA9zgHKq-V"
      },
      "source": [
        "# N number of rows want to see\n",
        "\n",
        "df = pd.read_csv(\"/content/drive/MyDrive/Python/pandas/4_read_write_to_excel/stock_data.csv\",  nrows=2)\n",
        "df"
      ],
      "execution_count": null,
      "outputs": []
    },
    {
      "cell_type": "code",
      "metadata": {
        "id": "9szGyouEKrAq"
      },
      "source": [
        "# Data Cleaning- Clean garvage values with (NaN)\n",
        "\n",
        "df = pd.read_csv(\"/content/drive/MyDrive/Python/pandas/4_read_write_to_excel/stock_data.csv\", na_values=[\"n.a.\", \"not available\"])\n",
        "df"
      ],
      "execution_count": null,
      "outputs": []
    },
    {
      "cell_type": "code",
      "metadata": {
        "id": "ShK7JIZLK4tM"
      },
      "source": [
        "# # Data Cleaning-  with dict (NaN)--> revenue: [-1] \n",
        "\n",
        "df = pd.read_csv(\"/content/drive/MyDrive/Python/pandas/4_read_write_to_excel/stock_data.csv\",  na_values={\n",
        "        'eps': ['not available'],\n",
        "        'revenue': [-1],\n",
        "        'people': ['not available','n.a.']\n",
        "    })\n",
        "df"
      ],
      "execution_count": null,
      "outputs": []
    },
    {
      "cell_type": "code",
      "metadata": {
        "id": "KGt0u-HxK4vc"
      },
      "source": [
        "#Write to CSV\n",
        "#Pandas DataFrame to_csv() function converts DataFrame into CSV data. We can pass a file object to write the CSV data into a file. Otherwise, the CSV data is returned in the string format.\n",
        "#"
      ],
      "execution_count": null,
      "outputs": []
    },
    {
      "cell_type": "code",
      "metadata": {
        "id": "ilng9AYPK4zf"
      },
      "source": [
        "df.to_csv(\"new.csv\", index=False)"
      ],
      "execution_count": null,
      "outputs": []
    },
    {
      "cell_type": "code",
      "metadata": {
        "id": "OqCKI7NmK_-x"
      },
      "source": [
        "df.columns"
      ],
      "execution_count": null,
      "outputs": []
    },
    {
      "cell_type": "code",
      "metadata": {
        "id": "4gg7SS_pLAKY"
      },
      "source": [
        "df.to_csv(\"new.csv\",header=False)"
      ],
      "execution_count": null,
      "outputs": []
    },
    {
      "cell_type": "code",
      "metadata": {
        "id": "QoDAga14yawO"
      },
      "source": [
        "df.to_csv(\"new.csv\", columns=[\"tickers\",\"price\"], index=False)"
      ],
      "execution_count": null,
      "outputs": []
    },
    {
      "cell_type": "code",
      "metadata": {
        "id": "sLyKJgIzLGA8"
      },
      "source": [
        "# Read Excel\n",
        "\n",
        "df = pd.read_excel(\"/content/drive/MyDrive/Python/pandas/4_read_write_to_excel/stock_data.xlsx\",\"Sheet1\")\n",
        "df"
      ],
      "execution_count": null,
      "outputs": []
    },
    {
      "cell_type": "code",
      "metadata": {
        "id": "JksRHJmULGDk"
      },
      "source": [
        "#Data cleaning using Dictionary ---(converters)\n",
        "\n",
        "def convert_people_cell(cell):\n",
        "    if cell==\"n.a.\":\n",
        "        return 'Sam Walton'\n",
        "    return cell"
      ],
      "execution_count": null,
      "outputs": []
    },
    {
      "cell_type": "code",
      "metadata": {
        "id": "j1sL_uiULMTp"
      },
      "source": [
        "def convert_price_cell(cell):\n",
        "    if cell==\"n.a.\":\n",
        "        return 50\n",
        "    return cell"
      ],
      "execution_count": null,
      "outputs": []
    },
    {
      "cell_type": "code",
      "metadata": {
        "id": "lh5rkAk8LMku"
      },
      "source": [
        "df = pd.read_excel(\"/content/drive/MyDrive/Python/pandas/4_read_write_to_excel/stock_data.xlsx\",\"Sheet1\", converters= {\n",
        "        'people': convert_people_cell,\n",
        "        'price': convert_price_cell\n",
        "    })\n",
        "df"
      ],
      "execution_count": null,
      "outputs": []
    },
    {
      "cell_type": "code",
      "metadata": {
        "id": "r_CSf5IlLUoK"
      },
      "source": [
        "#Write to Excel\n",
        "#The to_excel() method is used to export the DataFrame to the excel file. To write a single object to the excel file, we have to specify the target file name.\n",
        "\n",
        "df.to_excel(\"/content/drive/MyDrive/Python/pandas/4_read_write_to_excel/new.xlsx\", \n",
        "            sheet_name=\"stocks\", index=False, startrow=2, startcol=1)"
      ],
      "execution_count": null,
      "outputs": []
    },
    {
      "cell_type": "code",
      "metadata": {
        "id": "NuOI7xEBLUqR"
      },
      "source": [
        "#Write two dataframes to two separate sheets in excel\n",
        "\n",
        "df_stocks = pd.DataFrame({\n",
        "    'tickers': ['GOOGL', 'WMT', 'MSFT'],\n",
        "    'price': [845, 65, 64 ],\n",
        "    'pe': [30.37, 14.26, 30.97],\n",
        "    'eps': [27.82, 4.61, 2.12]\n",
        "})"
      ],
      "execution_count": null,
      "outputs": []
    },
    {
      "cell_type": "code",
      "metadata": {
        "id": "HxgirlK4LUuY"
      },
      "source": [
        "df_weather =  pd.DataFrame({\n",
        "    'day': ['1/1/2017','1/2/2017','1/3/2017'],\n",
        "    'temperature': [32,35,28],\n",
        "    'event': ['Rain', 'Sunny', 'Snow']\n",
        "})"
      ],
      "execution_count": null,
      "outputs": []
    },
    {
      "cell_type": "code",
      "metadata": {
        "id": "kBrw1ppbybL7"
      },
      "source": [
        "with pd.ExcelWriter('//stocks_weather.xlsx') as writer:\n",
        "    df_stocks.to_excel(writer, sheet_name=\"stocks\")\n",
        "    df_weather.to_excel(writer, sheet_name=\"weather\")"
      ],
      "execution_count": null,
      "outputs": []
    },
    {
      "cell_type": "markdown",
      "metadata": {
        "id": "KktlBER983OJ"
      },
      "source": [
        "# **Viewing/Inspecting Data**\n",
        "Use these commands to take a look at specific sections of your pandas DataFrame or Series.\n",
        "\n",
        "* **dtypes()**\tMethod returns a Series with the data type of each column. The result’s index is the original DataFrame’s columns\n",
        "* **columns()**\tMethod returns the column labels of the DataFrame\n",
        "* **sample()**\tMethod pulls out a random sample of rows or columns from a DataFrame\n",
        "* **values()**\tMethod returns a Numpy representation of the DataFrame i.e. only the values in the DataFrame will be returned, the axes labels will be removed\n",
        "* **df.head(n) |** First n rows of the DataFrame\n",
        "* **df.tail(n) |** Last n rows of the DataFrame\n",
        "* **df.shape |** Number of rows and columns\n",
        "* **df.info() |** Index, Datatype and Memory information\n",
        "* **df.describe() |** Summary statistics for numerical columns\n",
        "* **s.value_counts(dropna=False) |** View unique values and counts\n",
        "* **df.apply(pd.Series.value_counts) |** Unique values and counts for all columns"
      ]
    },
    {
      "cell_type": "code",
      "metadata": {
        "id": "GT0qz8fV4jyi",
        "colab": {
          "base_uri": "https://localhost:8080/",
          "height": 235
        },
        "outputId": "bef0d3c2-35ec-49a5-f938-f5a28c2a6282"
      },
      "source": [
        "#df = pd.read_csv('/content/drive/MyDrive/Python/pandas/1_intro/nyc_weather.csv')\n",
        "\n",
        "# Dictanary\n",
        "weather_data = {\n",
        "    'day': ['1/1/2017','1/2/2017','1/3/2017','1/4/2017','1/5/2017','1/6/2017'],\n",
        "    'temperature': [32,35,28,24,32,31],\n",
        "    'windspeed': [6,7,2,7,4,2],\n",
        "    'event': ['Rain', 'Sunny', 'Snow','Snow','Rain', 'Sunny']\n",
        "}\n",
        "df = pd.DataFrame(weather_data)\n",
        "df"
      ],
      "execution_count": null,
      "outputs": [
        {
          "output_type": "execute_result",
          "data": {
            "text/html": [
              "<div>\n",
              "<style scoped>\n",
              "    .dataframe tbody tr th:only-of-type {\n",
              "        vertical-align: middle;\n",
              "    }\n",
              "\n",
              "    .dataframe tbody tr th {\n",
              "        vertical-align: top;\n",
              "    }\n",
              "\n",
              "    .dataframe thead th {\n",
              "        text-align: right;\n",
              "    }\n",
              "</style>\n",
              "<table border=\"1\" class=\"dataframe\">\n",
              "  <thead>\n",
              "    <tr style=\"text-align: right;\">\n",
              "      <th></th>\n",
              "      <th>day</th>\n",
              "      <th>temperature</th>\n",
              "      <th>windspeed</th>\n",
              "      <th>event</th>\n",
              "    </tr>\n",
              "  </thead>\n",
              "  <tbody>\n",
              "    <tr>\n",
              "      <th>0</th>\n",
              "      <td>1/1/2017</td>\n",
              "      <td>32</td>\n",
              "      <td>6</td>\n",
              "      <td>Rain</td>\n",
              "    </tr>\n",
              "    <tr>\n",
              "      <th>1</th>\n",
              "      <td>1/2/2017</td>\n",
              "      <td>35</td>\n",
              "      <td>7</td>\n",
              "      <td>Sunny</td>\n",
              "    </tr>\n",
              "    <tr>\n",
              "      <th>2</th>\n",
              "      <td>1/3/2017</td>\n",
              "      <td>28</td>\n",
              "      <td>2</td>\n",
              "      <td>Snow</td>\n",
              "    </tr>\n",
              "    <tr>\n",
              "      <th>3</th>\n",
              "      <td>1/4/2017</td>\n",
              "      <td>24</td>\n",
              "      <td>7</td>\n",
              "      <td>Snow</td>\n",
              "    </tr>\n",
              "    <tr>\n",
              "      <th>4</th>\n",
              "      <td>1/5/2017</td>\n",
              "      <td>32</td>\n",
              "      <td>4</td>\n",
              "      <td>Rain</td>\n",
              "    </tr>\n",
              "    <tr>\n",
              "      <th>5</th>\n",
              "      <td>1/6/2017</td>\n",
              "      <td>31</td>\n",
              "      <td>2</td>\n",
              "      <td>Sunny</td>\n",
              "    </tr>\n",
              "  </tbody>\n",
              "</table>\n",
              "</div>"
            ],
            "text/plain": [
              "        day  temperature  windspeed  event\n",
              "0  1/1/2017           32          6   Rain\n",
              "1  1/2/2017           35          7  Sunny\n",
              "2  1/3/2017           28          2   Snow\n",
              "3  1/4/2017           24          7   Snow\n",
              "4  1/5/2017           32          4   Rain\n",
              "5  1/6/2017           31          2  Sunny"
            ]
          },
          "metadata": {
            "tags": []
          },
          "execution_count": 10
        }
      ]
    },
    {
      "cell_type": "code",
      "metadata": {
        "colab": {
          "base_uri": "https://localhost:8080/"
        },
        "id": "hKwnnMy-N2UJ",
        "outputId": "9d0f36b1-62d3-41b4-b56c-d2ac5281c31b"
      },
      "source": [
        "df.dtypes"
      ],
      "execution_count": null,
      "outputs": [
        {
          "output_type": "execute_result",
          "data": {
            "text/plain": [
              "day            object\n",
              "temperature     int64\n",
              "windspeed       int64\n",
              "event          object\n",
              "dtype: object"
            ]
          },
          "metadata": {
            "tags": []
          },
          "execution_count": 11
        }
      ]
    },
    {
      "cell_type": "code",
      "metadata": {
        "colab": {
          "base_uri": "https://localhost:8080/",
          "height": 80
        },
        "id": "1jwcIi1kN2WN",
        "outputId": "e0d2fe45-aa13-4162-f3c8-25748f2c3a91"
      },
      "source": [
        "df.sample()"
      ],
      "execution_count": null,
      "outputs": [
        {
          "output_type": "execute_result",
          "data": {
            "text/html": [
              "<div>\n",
              "<style scoped>\n",
              "    .dataframe tbody tr th:only-of-type {\n",
              "        vertical-align: middle;\n",
              "    }\n",
              "\n",
              "    .dataframe tbody tr th {\n",
              "        vertical-align: top;\n",
              "    }\n",
              "\n",
              "    .dataframe thead th {\n",
              "        text-align: right;\n",
              "    }\n",
              "</style>\n",
              "<table border=\"1\" class=\"dataframe\">\n",
              "  <thead>\n",
              "    <tr style=\"text-align: right;\">\n",
              "      <th></th>\n",
              "      <th>day</th>\n",
              "      <th>temperature</th>\n",
              "      <th>windspeed</th>\n",
              "      <th>event</th>\n",
              "    </tr>\n",
              "  </thead>\n",
              "  <tbody>\n",
              "    <tr>\n",
              "      <th>2</th>\n",
              "      <td>1/3/2017</td>\n",
              "      <td>28</td>\n",
              "      <td>2</td>\n",
              "      <td>Snow</td>\n",
              "    </tr>\n",
              "  </tbody>\n",
              "</table>\n",
              "</div>"
            ],
            "text/plain": [
              "        day  temperature  windspeed event\n",
              "2  1/3/2017           28          2  Snow"
            ]
          },
          "metadata": {
            "tags": []
          },
          "execution_count": 12
        }
      ]
    },
    {
      "cell_type": "code",
      "metadata": {
        "colab": {
          "base_uri": "https://localhost:8080/"
        },
        "id": "UHRDI6DZNwud",
        "outputId": "3baca12a-3318-4b50-944a-01bf787d6db6"
      },
      "source": [
        "df.values"
      ],
      "execution_count": null,
      "outputs": [
        {
          "output_type": "execute_result",
          "data": {
            "text/plain": [
              "array([['1/1/2017', 32, 6, 'Rain'],\n",
              "       ['1/2/2017', 35, 7, 'Sunny'],\n",
              "       ['1/3/2017', 28, 2, 'Snow'],\n",
              "       ['1/4/2017', 24, 7, 'Snow'],\n",
              "       ['1/5/2017', 32, 4, 'Rain'],\n",
              "       ['1/6/2017', 31, 2, 'Sunny']], dtype=object)"
            ]
          },
          "metadata": {
            "tags": []
          },
          "execution_count": 13
        }
      ]
    },
    {
      "cell_type": "code",
      "metadata": {
        "colab": {
          "base_uri": "https://localhost:8080/"
        },
        "id": "DxUHmWNQ3yoa",
        "outputId": "3aa5132a-f46b-4918-c561-269d4be8e40e"
      },
      "source": [
        "df.columns"
      ],
      "execution_count": null,
      "outputs": [
        {
          "output_type": "execute_result",
          "data": {
            "text/plain": [
              "Index(['day', 'temperature', 'windspeed', 'event'], dtype='object')"
            ]
          },
          "metadata": {
            "tags": []
          },
          "execution_count": 14
        }
      ]
    },
    {
      "cell_type": "code",
      "metadata": {
        "colab": {
          "base_uri": "https://localhost:8080/",
          "height": 111
        },
        "id": "OxRPczY43P4z",
        "outputId": "a96bd760-4e00-4aa5-c42b-694949eebd60"
      },
      "source": [
        "df.head(2)           #df.head(3)"
      ],
      "execution_count": null,
      "outputs": [
        {
          "output_type": "execute_result",
          "data": {
            "text/html": [
              "<div>\n",
              "<style scoped>\n",
              "    .dataframe tbody tr th:only-of-type {\n",
              "        vertical-align: middle;\n",
              "    }\n",
              "\n",
              "    .dataframe tbody tr th {\n",
              "        vertical-align: top;\n",
              "    }\n",
              "\n",
              "    .dataframe thead th {\n",
              "        text-align: right;\n",
              "    }\n",
              "</style>\n",
              "<table border=\"1\" class=\"dataframe\">\n",
              "  <thead>\n",
              "    <tr style=\"text-align: right;\">\n",
              "      <th></th>\n",
              "      <th>day</th>\n",
              "      <th>temperature</th>\n",
              "      <th>windspeed</th>\n",
              "      <th>event</th>\n",
              "    </tr>\n",
              "  </thead>\n",
              "  <tbody>\n",
              "    <tr>\n",
              "      <th>0</th>\n",
              "      <td>1/1/2017</td>\n",
              "      <td>32</td>\n",
              "      <td>6</td>\n",
              "      <td>Rain</td>\n",
              "    </tr>\n",
              "    <tr>\n",
              "      <th>1</th>\n",
              "      <td>1/2/2017</td>\n",
              "      <td>35</td>\n",
              "      <td>7</td>\n",
              "      <td>Sunny</td>\n",
              "    </tr>\n",
              "  </tbody>\n",
              "</table>\n",
              "</div>"
            ],
            "text/plain": [
              "        day  temperature  windspeed  event\n",
              "0  1/1/2017           32          6   Rain\n",
              "1  1/2/2017           35          7  Sunny"
            ]
          },
          "metadata": {
            "tags": []
          },
          "execution_count": 15
        }
      ]
    },
    {
      "cell_type": "code",
      "metadata": {
        "colab": {
          "base_uri": "https://localhost:8080/",
          "height": 111
        },
        "id": "msnZd3Ox3Qyh",
        "outputId": "cab7fe01-4f7c-46e3-cd3a-3d4035a7bfed"
      },
      "source": [
        "df.tail(2)           #df.tail(2)"
      ],
      "execution_count": null,
      "outputs": [
        {
          "output_type": "execute_result",
          "data": {
            "text/html": [
              "<div>\n",
              "<style scoped>\n",
              "    .dataframe tbody tr th:only-of-type {\n",
              "        vertical-align: middle;\n",
              "    }\n",
              "\n",
              "    .dataframe tbody tr th {\n",
              "        vertical-align: top;\n",
              "    }\n",
              "\n",
              "    .dataframe thead th {\n",
              "        text-align: right;\n",
              "    }\n",
              "</style>\n",
              "<table border=\"1\" class=\"dataframe\">\n",
              "  <thead>\n",
              "    <tr style=\"text-align: right;\">\n",
              "      <th></th>\n",
              "      <th>day</th>\n",
              "      <th>temperature</th>\n",
              "      <th>windspeed</th>\n",
              "      <th>event</th>\n",
              "    </tr>\n",
              "  </thead>\n",
              "  <tbody>\n",
              "    <tr>\n",
              "      <th>4</th>\n",
              "      <td>1/5/2017</td>\n",
              "      <td>32</td>\n",
              "      <td>4</td>\n",
              "      <td>Rain</td>\n",
              "    </tr>\n",
              "    <tr>\n",
              "      <th>5</th>\n",
              "      <td>1/6/2017</td>\n",
              "      <td>31</td>\n",
              "      <td>2</td>\n",
              "      <td>Sunny</td>\n",
              "    </tr>\n",
              "  </tbody>\n",
              "</table>\n",
              "</div>"
            ],
            "text/plain": [
              "        day  temperature  windspeed  event\n",
              "4  1/5/2017           32          4   Rain\n",
              "5  1/6/2017           31          2  Sunny"
            ]
          },
          "metadata": {
            "tags": []
          },
          "execution_count": 16
        }
      ]
    },
    {
      "cell_type": "code",
      "metadata": {
        "colab": {
          "base_uri": "https://localhost:8080/"
        },
        "id": "Em5ZLB7fNsNr",
        "outputId": "c6aa5257-fd60-459b-bbc1-6798f3385e61"
      },
      "source": [
        "df.shape            #rows,columns = df.shape"
      ],
      "execution_count": null,
      "outputs": [
        {
          "output_type": "execute_result",
          "data": {
            "text/plain": [
              "(6, 4)"
            ]
          },
          "metadata": {
            "tags": []
          },
          "execution_count": 17
        }
      ]
    },
    {
      "cell_type": "code",
      "metadata": {
        "colab": {
          "base_uri": "https://localhost:8080/"
        },
        "id": "yD2dNmb4NsP4",
        "outputId": "d33d8900-28f3-4487-defd-1d54ab9d5ed2"
      },
      "source": [
        "df.info()"
      ],
      "execution_count": null,
      "outputs": [
        {
          "output_type": "stream",
          "text": [
            "<class 'pandas.core.frame.DataFrame'>\n",
            "RangeIndex: 6 entries, 0 to 5\n",
            "Data columns (total 4 columns):\n",
            " #   Column       Non-Null Count  Dtype \n",
            "---  ------       --------------  ----- \n",
            " 0   day          6 non-null      object\n",
            " 1   temperature  6 non-null      int64 \n",
            " 2   windspeed    6 non-null      int64 \n",
            " 3   event        6 non-null      object\n",
            "dtypes: int64(2), object(2)\n",
            "memory usage: 320.0+ bytes\n"
          ],
          "name": "stdout"
        }
      ]
    },
    {
      "cell_type": "code",
      "metadata": {
        "colab": {
          "base_uri": "https://localhost:8080/",
          "height": 297
        },
        "id": "1Zw33QnQ3zta",
        "outputId": "1460e58c-059a-4d6e-e9a5-78df72191159"
      },
      "source": [
        "df.describe()"
      ],
      "execution_count": null,
      "outputs": [
        {
          "output_type": "execute_result",
          "data": {
            "text/html": [
              "<div>\n",
              "<style scoped>\n",
              "    .dataframe tbody tr th:only-of-type {\n",
              "        vertical-align: middle;\n",
              "    }\n",
              "\n",
              "    .dataframe tbody tr th {\n",
              "        vertical-align: top;\n",
              "    }\n",
              "\n",
              "    .dataframe thead th {\n",
              "        text-align: right;\n",
              "    }\n",
              "</style>\n",
              "<table border=\"1\" class=\"dataframe\">\n",
              "  <thead>\n",
              "    <tr style=\"text-align: right;\">\n",
              "      <th></th>\n",
              "      <th>temperature</th>\n",
              "      <th>windspeed</th>\n",
              "    </tr>\n",
              "  </thead>\n",
              "  <tbody>\n",
              "    <tr>\n",
              "      <th>count</th>\n",
              "      <td>6.000000</td>\n",
              "      <td>6.000000</td>\n",
              "    </tr>\n",
              "    <tr>\n",
              "      <th>mean</th>\n",
              "      <td>30.333333</td>\n",
              "      <td>4.666667</td>\n",
              "    </tr>\n",
              "    <tr>\n",
              "      <th>std</th>\n",
              "      <td>3.829708</td>\n",
              "      <td>2.338090</td>\n",
              "    </tr>\n",
              "    <tr>\n",
              "      <th>min</th>\n",
              "      <td>24.000000</td>\n",
              "      <td>2.000000</td>\n",
              "    </tr>\n",
              "    <tr>\n",
              "      <th>25%</th>\n",
              "      <td>28.750000</td>\n",
              "      <td>2.500000</td>\n",
              "    </tr>\n",
              "    <tr>\n",
              "      <th>50%</th>\n",
              "      <td>31.500000</td>\n",
              "      <td>5.000000</td>\n",
              "    </tr>\n",
              "    <tr>\n",
              "      <th>75%</th>\n",
              "      <td>32.000000</td>\n",
              "      <td>6.750000</td>\n",
              "    </tr>\n",
              "    <tr>\n",
              "      <th>max</th>\n",
              "      <td>35.000000</td>\n",
              "      <td>7.000000</td>\n",
              "    </tr>\n",
              "  </tbody>\n",
              "</table>\n",
              "</div>"
            ],
            "text/plain": [
              "       temperature  windspeed\n",
              "count     6.000000   6.000000\n",
              "mean     30.333333   4.666667\n",
              "std       3.829708   2.338090\n",
              "min      24.000000   2.000000\n",
              "25%      28.750000   2.500000\n",
              "50%      31.500000   5.000000\n",
              "75%      32.000000   6.750000\n",
              "max      35.000000   7.000000"
            ]
          },
          "metadata": {
            "tags": []
          },
          "execution_count": 19
        }
      ]
    },
    {
      "cell_type": "code",
      "metadata": {
        "colab": {
          "base_uri": "https://localhost:8080/"
        },
        "id": "sIF472hGNox7",
        "outputId": "f04cc559-458a-4d23-a288-3a675c31edeb"
      },
      "source": [
        "#df.value_counts(dropna=False)\n",
        "df.value_counts()"
      ],
      "execution_count": null,
      "outputs": [
        {
          "output_type": "execute_result",
          "data": {
            "text/plain": [
              "day       temperature  windspeed  event\n",
              "1/6/2017  31           2          Sunny    1\n",
              "1/5/2017  32           4          Rain     1\n",
              "1/4/2017  24           7          Snow     1\n",
              "1/3/2017  28           2          Snow     1\n",
              "1/2/2017  35           7          Sunny    1\n",
              "1/1/2017  32           6          Rain     1\n",
              "dtype: int64"
            ]
          },
          "metadata": {
            "tags": []
          },
          "execution_count": 20
        }
      ]
    },
    {
      "cell_type": "code",
      "metadata": {
        "colab": {
          "base_uri": "https://localhost:8080/",
          "height": 607
        },
        "id": "9SXVIZHANo0C",
        "outputId": "295dfb2c-a2b8-4ca5-80f8-ff9d77d026e8"
      },
      "source": [
        "df.apply(pd.Series.value_counts)"
      ],
      "execution_count": null,
      "outputs": [
        {
          "output_type": "execute_result",
          "data": {
            "text/html": [
              "<div>\n",
              "<style scoped>\n",
              "    .dataframe tbody tr th:only-of-type {\n",
              "        vertical-align: middle;\n",
              "    }\n",
              "\n",
              "    .dataframe tbody tr th {\n",
              "        vertical-align: top;\n",
              "    }\n",
              "\n",
              "    .dataframe thead th {\n",
              "        text-align: right;\n",
              "    }\n",
              "</style>\n",
              "<table border=\"1\" class=\"dataframe\">\n",
              "  <thead>\n",
              "    <tr style=\"text-align: right;\">\n",
              "      <th></th>\n",
              "      <th>day</th>\n",
              "      <th>temperature</th>\n",
              "      <th>windspeed</th>\n",
              "      <th>event</th>\n",
              "    </tr>\n",
              "  </thead>\n",
              "  <tbody>\n",
              "    <tr>\n",
              "      <th>2</th>\n",
              "      <td>NaN</td>\n",
              "      <td>NaN</td>\n",
              "      <td>2.0</td>\n",
              "      <td>NaN</td>\n",
              "    </tr>\n",
              "    <tr>\n",
              "      <th>4</th>\n",
              "      <td>NaN</td>\n",
              "      <td>NaN</td>\n",
              "      <td>1.0</td>\n",
              "      <td>NaN</td>\n",
              "    </tr>\n",
              "    <tr>\n",
              "      <th>6</th>\n",
              "      <td>NaN</td>\n",
              "      <td>NaN</td>\n",
              "      <td>1.0</td>\n",
              "      <td>NaN</td>\n",
              "    </tr>\n",
              "    <tr>\n",
              "      <th>7</th>\n",
              "      <td>NaN</td>\n",
              "      <td>NaN</td>\n",
              "      <td>2.0</td>\n",
              "      <td>NaN</td>\n",
              "    </tr>\n",
              "    <tr>\n",
              "      <th>24</th>\n",
              "      <td>NaN</td>\n",
              "      <td>1.0</td>\n",
              "      <td>NaN</td>\n",
              "      <td>NaN</td>\n",
              "    </tr>\n",
              "    <tr>\n",
              "      <th>28</th>\n",
              "      <td>NaN</td>\n",
              "      <td>1.0</td>\n",
              "      <td>NaN</td>\n",
              "      <td>NaN</td>\n",
              "    </tr>\n",
              "    <tr>\n",
              "      <th>31</th>\n",
              "      <td>NaN</td>\n",
              "      <td>1.0</td>\n",
              "      <td>NaN</td>\n",
              "      <td>NaN</td>\n",
              "    </tr>\n",
              "    <tr>\n",
              "      <th>32</th>\n",
              "      <td>NaN</td>\n",
              "      <td>2.0</td>\n",
              "      <td>NaN</td>\n",
              "      <td>NaN</td>\n",
              "    </tr>\n",
              "    <tr>\n",
              "      <th>35</th>\n",
              "      <td>NaN</td>\n",
              "      <td>1.0</td>\n",
              "      <td>NaN</td>\n",
              "      <td>NaN</td>\n",
              "    </tr>\n",
              "    <tr>\n",
              "      <th>1/1/2017</th>\n",
              "      <td>1.0</td>\n",
              "      <td>NaN</td>\n",
              "      <td>NaN</td>\n",
              "      <td>NaN</td>\n",
              "    </tr>\n",
              "    <tr>\n",
              "      <th>1/2/2017</th>\n",
              "      <td>1.0</td>\n",
              "      <td>NaN</td>\n",
              "      <td>NaN</td>\n",
              "      <td>NaN</td>\n",
              "    </tr>\n",
              "    <tr>\n",
              "      <th>1/3/2017</th>\n",
              "      <td>1.0</td>\n",
              "      <td>NaN</td>\n",
              "      <td>NaN</td>\n",
              "      <td>NaN</td>\n",
              "    </tr>\n",
              "    <tr>\n",
              "      <th>1/4/2017</th>\n",
              "      <td>1.0</td>\n",
              "      <td>NaN</td>\n",
              "      <td>NaN</td>\n",
              "      <td>NaN</td>\n",
              "    </tr>\n",
              "    <tr>\n",
              "      <th>1/5/2017</th>\n",
              "      <td>1.0</td>\n",
              "      <td>NaN</td>\n",
              "      <td>NaN</td>\n",
              "      <td>NaN</td>\n",
              "    </tr>\n",
              "    <tr>\n",
              "      <th>1/6/2017</th>\n",
              "      <td>1.0</td>\n",
              "      <td>NaN</td>\n",
              "      <td>NaN</td>\n",
              "      <td>NaN</td>\n",
              "    </tr>\n",
              "    <tr>\n",
              "      <th>Rain</th>\n",
              "      <td>NaN</td>\n",
              "      <td>NaN</td>\n",
              "      <td>NaN</td>\n",
              "      <td>2.0</td>\n",
              "    </tr>\n",
              "    <tr>\n",
              "      <th>Snow</th>\n",
              "      <td>NaN</td>\n",
              "      <td>NaN</td>\n",
              "      <td>NaN</td>\n",
              "      <td>2.0</td>\n",
              "    </tr>\n",
              "    <tr>\n",
              "      <th>Sunny</th>\n",
              "      <td>NaN</td>\n",
              "      <td>NaN</td>\n",
              "      <td>NaN</td>\n",
              "      <td>2.0</td>\n",
              "    </tr>\n",
              "  </tbody>\n",
              "</table>\n",
              "</div>"
            ],
            "text/plain": [
              "          day  temperature  windspeed  event\n",
              "2         NaN          NaN        2.0    NaN\n",
              "4         NaN          NaN        1.0    NaN\n",
              "6         NaN          NaN        1.0    NaN\n",
              "7         NaN          NaN        2.0    NaN\n",
              "24        NaN          1.0        NaN    NaN\n",
              "28        NaN          1.0        NaN    NaN\n",
              "31        NaN          1.0        NaN    NaN\n",
              "32        NaN          2.0        NaN    NaN\n",
              "35        NaN          1.0        NaN    NaN\n",
              "1/1/2017  1.0          NaN        NaN    NaN\n",
              "1/2/2017  1.0          NaN        NaN    NaN\n",
              "1/3/2017  1.0          NaN        NaN    NaN\n",
              "1/4/2017  1.0          NaN        NaN    NaN\n",
              "1/5/2017  1.0          NaN        NaN    NaN\n",
              "1/6/2017  1.0          NaN        NaN    NaN\n",
              "Rain      NaN          NaN        NaN    2.0\n",
              "Snow      NaN          NaN        NaN    2.0\n",
              "Sunny     NaN          NaN        NaN    2.0"
            ]
          },
          "metadata": {
            "tags": []
          },
          "execution_count": 21
        }
      ]
    },
    {
      "cell_type": "markdown",
      "metadata": {
        "id": "ja_Ksq4LF37w"
      },
      "source": [
        "# **Statistics**\n",
        "Use these commands to perform various statistical tests. (These can all be applied to a series as well.)\n",
        "\n",
        "\n",
        "* **df.describe() |** Summary statistics for numerical columns\n",
        "* **df.mean() |** Returns the mean of all columns\n",
        "* **df.corr() |** Returns the correlation between columns in a DataFrame\n",
        "* **df.count() |** Returns the number of non-null values in each DataFrame column\n",
        "* **df.max() |** Returns the highest value in each column\n",
        "* **df.min() |** Returns the lowest value in each column\n",
        "* **df.median() |** Returns the median of each column\n",
        "* **df.std() |** Returns the standard deviation of each column"
      ]
    },
    {
      "cell_type": "code",
      "metadata": {
        "colab": {
          "base_uri": "https://localhost:8080/",
          "height": 235
        },
        "id": "Rf1Hwvj2qz_I",
        "outputId": "e7df0d53-0e9d-4aaf-a238-980f17513e0b"
      },
      "source": [
        "# Dictanary\n",
        "weather_data = {\n",
        "    'day': ['1/1/2017','1/2/2017','1/3/2017','1/4/2017','1/5/2017','1/6/2017'],\n",
        "    'temperature': [32,35,28,24,32,31],\n",
        "    'windspeed': [6,7,2,7,4,2],\n",
        "    'event': ['Rain', 'Sunny', 'Snow','Snow','Rain', 'Sunny']\n",
        "}\n",
        "df = pd.DataFrame(weather_data)\n",
        "df"
      ],
      "execution_count": null,
      "outputs": [
        {
          "output_type": "execute_result",
          "data": {
            "text/html": [
              "<div>\n",
              "<style scoped>\n",
              "    .dataframe tbody tr th:only-of-type {\n",
              "        vertical-align: middle;\n",
              "    }\n",
              "\n",
              "    .dataframe tbody tr th {\n",
              "        vertical-align: top;\n",
              "    }\n",
              "\n",
              "    .dataframe thead th {\n",
              "        text-align: right;\n",
              "    }\n",
              "</style>\n",
              "<table border=\"1\" class=\"dataframe\">\n",
              "  <thead>\n",
              "    <tr style=\"text-align: right;\">\n",
              "      <th></th>\n",
              "      <th>day</th>\n",
              "      <th>temperature</th>\n",
              "      <th>windspeed</th>\n",
              "      <th>event</th>\n",
              "    </tr>\n",
              "  </thead>\n",
              "  <tbody>\n",
              "    <tr>\n",
              "      <th>0</th>\n",
              "      <td>1/1/2017</td>\n",
              "      <td>32</td>\n",
              "      <td>6</td>\n",
              "      <td>Rain</td>\n",
              "    </tr>\n",
              "    <tr>\n",
              "      <th>1</th>\n",
              "      <td>1/2/2017</td>\n",
              "      <td>35</td>\n",
              "      <td>7</td>\n",
              "      <td>Sunny</td>\n",
              "    </tr>\n",
              "    <tr>\n",
              "      <th>2</th>\n",
              "      <td>1/3/2017</td>\n",
              "      <td>28</td>\n",
              "      <td>2</td>\n",
              "      <td>Snow</td>\n",
              "    </tr>\n",
              "    <tr>\n",
              "      <th>3</th>\n",
              "      <td>1/4/2017</td>\n",
              "      <td>24</td>\n",
              "      <td>7</td>\n",
              "      <td>Snow</td>\n",
              "    </tr>\n",
              "    <tr>\n",
              "      <th>4</th>\n",
              "      <td>1/5/2017</td>\n",
              "      <td>32</td>\n",
              "      <td>4</td>\n",
              "      <td>Rain</td>\n",
              "    </tr>\n",
              "    <tr>\n",
              "      <th>5</th>\n",
              "      <td>1/6/2017</td>\n",
              "      <td>31</td>\n",
              "      <td>2</td>\n",
              "      <td>Sunny</td>\n",
              "    </tr>\n",
              "  </tbody>\n",
              "</table>\n",
              "</div>"
            ],
            "text/plain": [
              "        day  temperature  windspeed  event\n",
              "0  1/1/2017           32          6   Rain\n",
              "1  1/2/2017           35          7  Sunny\n",
              "2  1/3/2017           28          2   Snow\n",
              "3  1/4/2017           24          7   Snow\n",
              "4  1/5/2017           32          4   Rain\n",
              "5  1/6/2017           31          2  Sunny"
            ]
          },
          "metadata": {
            "tags": []
          },
          "execution_count": 53
        }
      ]
    },
    {
      "cell_type": "code",
      "metadata": {
        "id": "AgunCnG8F5am",
        "colab": {
          "base_uri": "https://localhost:8080/",
          "height": 297
        },
        "outputId": "7ec876fd-5503-4704-b6c4-38e22fe89721"
      },
      "source": [
        "\n",
        "df.describe()"
      ],
      "execution_count": null,
      "outputs": [
        {
          "output_type": "execute_result",
          "data": {
            "text/html": [
              "<div>\n",
              "<style scoped>\n",
              "    .dataframe tbody tr th:only-of-type {\n",
              "        vertical-align: middle;\n",
              "    }\n",
              "\n",
              "    .dataframe tbody tr th {\n",
              "        vertical-align: top;\n",
              "    }\n",
              "\n",
              "    .dataframe thead th {\n",
              "        text-align: right;\n",
              "    }\n",
              "</style>\n",
              "<table border=\"1\" class=\"dataframe\">\n",
              "  <thead>\n",
              "    <tr style=\"text-align: right;\">\n",
              "      <th></th>\n",
              "      <th>temperature</th>\n",
              "      <th>windspeed</th>\n",
              "    </tr>\n",
              "  </thead>\n",
              "  <tbody>\n",
              "    <tr>\n",
              "      <th>count</th>\n",
              "      <td>6.000000</td>\n",
              "      <td>6.000000</td>\n",
              "    </tr>\n",
              "    <tr>\n",
              "      <th>mean</th>\n",
              "      <td>30.333333</td>\n",
              "      <td>4.666667</td>\n",
              "    </tr>\n",
              "    <tr>\n",
              "      <th>std</th>\n",
              "      <td>3.829708</td>\n",
              "      <td>2.338090</td>\n",
              "    </tr>\n",
              "    <tr>\n",
              "      <th>min</th>\n",
              "      <td>24.000000</td>\n",
              "      <td>2.000000</td>\n",
              "    </tr>\n",
              "    <tr>\n",
              "      <th>25%</th>\n",
              "      <td>28.750000</td>\n",
              "      <td>2.500000</td>\n",
              "    </tr>\n",
              "    <tr>\n",
              "      <th>50%</th>\n",
              "      <td>31.500000</td>\n",
              "      <td>5.000000</td>\n",
              "    </tr>\n",
              "    <tr>\n",
              "      <th>75%</th>\n",
              "      <td>32.000000</td>\n",
              "      <td>6.750000</td>\n",
              "    </tr>\n",
              "    <tr>\n",
              "      <th>max</th>\n",
              "      <td>35.000000</td>\n",
              "      <td>7.000000</td>\n",
              "    </tr>\n",
              "  </tbody>\n",
              "</table>\n",
              "</div>"
            ],
            "text/plain": [
              "       temperature  windspeed\n",
              "count     6.000000   6.000000\n",
              "mean     30.333333   4.666667\n",
              "std       3.829708   2.338090\n",
              "min      24.000000   2.000000\n",
              "25%      28.750000   2.500000\n",
              "50%      31.500000   5.000000\n",
              "75%      32.000000   6.750000\n",
              "max      35.000000   7.000000"
            ]
          },
          "metadata": {
            "tags": []
          },
          "execution_count": 54
        }
      ]
    },
    {
      "cell_type": "code",
      "metadata": {
        "id": "6WxgFZMWF6EV",
        "colab": {
          "base_uri": "https://localhost:8080/"
        },
        "outputId": "074ac08d-24d9-492d-893c-149aa826e89e"
      },
      "source": [
        "print('count-',             df.count()  )\n",
        "print('max-',               df.max()    )                   # How to get max value from a column--- (Ex- Maximum Temp)\n",
        "print('min-',               df.min()    )\n",
        "print('mean-',              df.mean()   )\n",
        "print('median-',            df.median() )\n",
        "print('corr-',              df.corr()   )\n",
        "print('standard deviation-',df.std()    ) \n"
      ],
      "execution_count": null,
      "outputs": [
        {
          "output_type": "stream",
          "text": [
            "count- day            6\n",
            "temperature    6\n",
            "windspeed      6\n",
            "event          6\n",
            "dtype: int64\n",
            "max- day            1/6/2017\n",
            "temperature          35\n",
            "windspeed             7\n",
            "event             Sunny\n",
            "dtype: object\n",
            "min- day            1/1/2017\n",
            "temperature          24\n",
            "windspeed             2\n",
            "event              Rain\n",
            "dtype: object\n",
            "mean- temperature    30.333333\n",
            "windspeed       4.666667\n",
            "dtype: float64\n",
            "median- temperature    31.5\n",
            "windspeed       5.0\n",
            "dtype: float64\n",
            "corr-              temperature  windspeed\n",
            "temperature     1.000000   0.037226\n",
            "windspeed       0.037226   1.000000\n",
            "standard deviation- temperature    3.829708\n",
            "windspeed      2.338090\n",
            "dtype: float64\n"
          ],
          "name": "stdout"
        }
      ]
    },
    {
      "cell_type": "code",
      "metadata": {
        "colab": {
          "base_uri": "https://localhost:8080/"
        },
        "id": "hp_PuwqztM8T",
        "outputId": "c70fbd3b-db27-4c75-e593-a0fd0e65c8e6"
      },
      "source": [
        "# Use condition\n",
        "\n",
        "print('max-',               df['temperature'].max()  )                   # How to get max value from a column--- (Ex- Maximum Temp)\n",
        "print('min-',               df['temperature'].min()  )\n",
        "print('mean-',              df['temperature'].mean() )\n",
        "print('standard deviation-',df['temperature'].std()  )"
      ],
      "execution_count": null,
      "outputs": [
        {
          "output_type": "stream",
          "text": [
            "max- 35\n",
            "min- 24\n",
            "mean- 30.333333333333332\n",
            "standard deviation- 3.8297084310253524\n"
          ],
          "name": "stdout"
        }
      ]
    },
    {
      "cell_type": "markdown",
      "metadata": {
        "id": "19OlWXzL99aJ"
      },
      "source": [
        "# **Selection**\n",
        "Use these commands to select a specific subset of your data.\n",
        "\n",
        "* **df[col] |** Returns column with label col as Series\n",
        "* **df[[col1, col2]] |** Returns columns as a new DataFrame\n",
        "* **s.loc['index_one'] |** Selection by index\n",
        "* **s.iloc[0] |** Selection by position\n",
        "* **df.iloc[0,:] |** First row\n",
        "* **df.iloc[0,0] |** First element of first column\n",
        "* **loc[]**\tMethod retrieves rows based on index label\n",
        "* **iloc[]**\tMethod retrieves rows based on index position\n",
        "* **ix[]**\tMethod retrieves DataFrame rows based on either index label or index position. This method combines the best features of the .loc[] and .iloc[] methods"
      ]
    },
    {
      "cell_type": "code",
      "metadata": {
        "colab": {
          "base_uri": "https://localhost:8080/",
          "height": 235
        },
        "id": "Ae6UQXHJsB5D",
        "outputId": "3034b697-b7a5-45fd-e1bb-8dd2064ffb4a"
      },
      "source": [
        "#df = pd.read_csv('/content/drive/MyDrive/Python/pandas/1_intro/nyc_weather.csv')\n",
        "\n",
        "# Dictanary\n",
        "weather_data = {\n",
        "    'day': ['1/1/2017','1/2/2017','1/3/2017','1/4/2017','1/5/2017','1/6/2017'],\n",
        "    'temperature': [32,35,28,24,32,31],\n",
        "    'windspeed': [6,7,2,7,4,2],\n",
        "    'event': ['Rain', 'Sunny', 'Snow','Snow','Rain', 'Sunny']\n",
        "}\n",
        "df = pd.DataFrame(weather_data)\n",
        "df"
      ],
      "execution_count": null,
      "outputs": [
        {
          "output_type": "execute_result",
          "data": {
            "text/html": [
              "<div>\n",
              "<style scoped>\n",
              "    .dataframe tbody tr th:only-of-type {\n",
              "        vertical-align: middle;\n",
              "    }\n",
              "\n",
              "    .dataframe tbody tr th {\n",
              "        vertical-align: top;\n",
              "    }\n",
              "\n",
              "    .dataframe thead th {\n",
              "        text-align: right;\n",
              "    }\n",
              "</style>\n",
              "<table border=\"1\" class=\"dataframe\">\n",
              "  <thead>\n",
              "    <tr style=\"text-align: right;\">\n",
              "      <th></th>\n",
              "      <th>day</th>\n",
              "      <th>temperature</th>\n",
              "      <th>windspeed</th>\n",
              "      <th>event</th>\n",
              "    </tr>\n",
              "  </thead>\n",
              "  <tbody>\n",
              "    <tr>\n",
              "      <th>0</th>\n",
              "      <td>1/1/2017</td>\n",
              "      <td>32</td>\n",
              "      <td>6</td>\n",
              "      <td>Rain</td>\n",
              "    </tr>\n",
              "    <tr>\n",
              "      <th>1</th>\n",
              "      <td>1/2/2017</td>\n",
              "      <td>35</td>\n",
              "      <td>7</td>\n",
              "      <td>Sunny</td>\n",
              "    </tr>\n",
              "    <tr>\n",
              "      <th>2</th>\n",
              "      <td>1/3/2017</td>\n",
              "      <td>28</td>\n",
              "      <td>2</td>\n",
              "      <td>Snow</td>\n",
              "    </tr>\n",
              "    <tr>\n",
              "      <th>3</th>\n",
              "      <td>1/4/2017</td>\n",
              "      <td>24</td>\n",
              "      <td>7</td>\n",
              "      <td>Snow</td>\n",
              "    </tr>\n",
              "    <tr>\n",
              "      <th>4</th>\n",
              "      <td>1/5/2017</td>\n",
              "      <td>32</td>\n",
              "      <td>4</td>\n",
              "      <td>Rain</td>\n",
              "    </tr>\n",
              "    <tr>\n",
              "      <th>5</th>\n",
              "      <td>1/6/2017</td>\n",
              "      <td>31</td>\n",
              "      <td>2</td>\n",
              "      <td>Sunny</td>\n",
              "    </tr>\n",
              "  </tbody>\n",
              "</table>\n",
              "</div>"
            ],
            "text/plain": [
              "        day  temperature  windspeed  event\n",
              "0  1/1/2017           32          6   Rain\n",
              "1  1/2/2017           35          7  Sunny\n",
              "2  1/3/2017           28          2   Snow\n",
              "3  1/4/2017           24          7   Snow\n",
              "4  1/5/2017           32          4   Rain\n",
              "5  1/6/2017           31          2  Sunny"
            ]
          },
          "metadata": {
            "tags": []
          },
          "execution_count": 37
        }
      ]
    },
    {
      "cell_type": "code",
      "metadata": {
        "colab": {
          "base_uri": "https://localhost:8080/"
        },
        "id": "JfZfSKYCX_YS",
        "outputId": "d7f65267-97dd-48c4-e979-d531e216abab"
      },
      "source": [
        "df.columns"
      ],
      "execution_count": null,
      "outputs": [
        {
          "output_type": "execute_result",
          "data": {
            "text/plain": [
              "Index(['day', 'temperature', 'windspeed', 'event'], dtype='object')"
            ]
          },
          "metadata": {
            "tags": []
          },
          "execution_count": 38
        }
      ]
    },
    {
      "cell_type": "code",
      "metadata": {
        "id": "RcCTekTFWD9m"
      },
      "source": [
        "# type\n",
        "\n",
        "#type(df['day'])"
      ],
      "execution_count": null,
      "outputs": []
    },
    {
      "cell_type": "code",
      "metadata": {
        "id": "KBZnyl8rWD5B"
      },
      "source": [
        "#df['Temperature'] # or df.day"
      ],
      "execution_count": null,
      "outputs": []
    },
    {
      "cell_type": "code",
      "metadata": {
        "colab": {
          "base_uri": "https://localhost:8080/",
          "height": 235
        },
        "id": "-_ywSU2YX0Ze",
        "outputId": "b2b25ef7-e982-4649-c811-8aa1df3332e6"
      },
      "source": [
        "# Select Columns of your choise\n",
        "\n",
        "df[['day','temperature', 'event']]"
      ],
      "execution_count": null,
      "outputs": [
        {
          "output_type": "execute_result",
          "data": {
            "text/html": [
              "<div>\n",
              "<style scoped>\n",
              "    .dataframe tbody tr th:only-of-type {\n",
              "        vertical-align: middle;\n",
              "    }\n",
              "\n",
              "    .dataframe tbody tr th {\n",
              "        vertical-align: top;\n",
              "    }\n",
              "\n",
              "    .dataframe thead th {\n",
              "        text-align: right;\n",
              "    }\n",
              "</style>\n",
              "<table border=\"1\" class=\"dataframe\">\n",
              "  <thead>\n",
              "    <tr style=\"text-align: right;\">\n",
              "      <th></th>\n",
              "      <th>day</th>\n",
              "      <th>temperature</th>\n",
              "      <th>event</th>\n",
              "    </tr>\n",
              "  </thead>\n",
              "  <tbody>\n",
              "    <tr>\n",
              "      <th>0</th>\n",
              "      <td>1/1/2017</td>\n",
              "      <td>32</td>\n",
              "      <td>Rain</td>\n",
              "    </tr>\n",
              "    <tr>\n",
              "      <th>1</th>\n",
              "      <td>1/2/2017</td>\n",
              "      <td>35</td>\n",
              "      <td>Sunny</td>\n",
              "    </tr>\n",
              "    <tr>\n",
              "      <th>2</th>\n",
              "      <td>1/3/2017</td>\n",
              "      <td>28</td>\n",
              "      <td>Snow</td>\n",
              "    </tr>\n",
              "    <tr>\n",
              "      <th>3</th>\n",
              "      <td>1/4/2017</td>\n",
              "      <td>24</td>\n",
              "      <td>Snow</td>\n",
              "    </tr>\n",
              "    <tr>\n",
              "      <th>4</th>\n",
              "      <td>1/5/2017</td>\n",
              "      <td>32</td>\n",
              "      <td>Rain</td>\n",
              "    </tr>\n",
              "    <tr>\n",
              "      <th>5</th>\n",
              "      <td>1/6/2017</td>\n",
              "      <td>31</td>\n",
              "      <td>Sunny</td>\n",
              "    </tr>\n",
              "  </tbody>\n",
              "</table>\n",
              "</div>"
            ],
            "text/plain": [
              "        day  temperature  event\n",
              "0  1/1/2017           32   Rain\n",
              "1  1/2/2017           35  Sunny\n",
              "2  1/3/2017           28   Snow\n",
              "3  1/4/2017           24   Snow\n",
              "4  1/5/2017           32   Rain\n",
              "5  1/6/2017           31  Sunny"
            ]
          },
          "metadata": {
            "tags": []
          },
          "execution_count": 41
        }
      ]
    },
    {
      "cell_type": "code",
      "metadata": {
        "colab": {
          "base_uri": "https://localhost:8080/",
          "height": 142
        },
        "id": "kH-_3Ii6WD2m",
        "outputId": "ffc71066-b605-41c5-e9db-d96652f52194"
      },
      "source": [
        "# Print particular rows--\n",
        "df[2:5]"
      ],
      "execution_count": null,
      "outputs": [
        {
          "output_type": "execute_result",
          "data": {
            "text/html": [
              "<div>\n",
              "<style scoped>\n",
              "    .dataframe tbody tr th:only-of-type {\n",
              "        vertical-align: middle;\n",
              "    }\n",
              "\n",
              "    .dataframe tbody tr th {\n",
              "        vertical-align: top;\n",
              "    }\n",
              "\n",
              "    .dataframe thead th {\n",
              "        text-align: right;\n",
              "    }\n",
              "</style>\n",
              "<table border=\"1\" class=\"dataframe\">\n",
              "  <thead>\n",
              "    <tr style=\"text-align: right;\">\n",
              "      <th></th>\n",
              "      <th>day</th>\n",
              "      <th>temperature</th>\n",
              "      <th>windspeed</th>\n",
              "      <th>event</th>\n",
              "    </tr>\n",
              "  </thead>\n",
              "  <tbody>\n",
              "    <tr>\n",
              "      <th>2</th>\n",
              "      <td>1/3/2017</td>\n",
              "      <td>28</td>\n",
              "      <td>2</td>\n",
              "      <td>Snow</td>\n",
              "    </tr>\n",
              "    <tr>\n",
              "      <th>3</th>\n",
              "      <td>1/4/2017</td>\n",
              "      <td>24</td>\n",
              "      <td>7</td>\n",
              "      <td>Snow</td>\n",
              "    </tr>\n",
              "    <tr>\n",
              "      <th>4</th>\n",
              "      <td>1/5/2017</td>\n",
              "      <td>32</td>\n",
              "      <td>4</td>\n",
              "      <td>Rain</td>\n",
              "    </tr>\n",
              "  </tbody>\n",
              "</table>\n",
              "</div>"
            ],
            "text/plain": [
              "        day  temperature  windspeed event\n",
              "2  1/3/2017           28          2  Snow\n",
              "3  1/4/2017           24          7  Snow\n",
              "4  1/5/2017           32          4  Rain"
            ]
          },
          "metadata": {
            "tags": []
          },
          "execution_count": 43
        }
      ]
    },
    {
      "cell_type": "code",
      "metadata": {
        "colab": {
          "base_uri": "https://localhost:8080/",
          "height": 35
        },
        "id": "mxatU-sHX4yl",
        "outputId": "5d2f28c3-b58f-4b17-c0d3-c04cb3ef8aaf"
      },
      "source": [
        "df.iloc[0,0]          # First element of first column"
      ],
      "execution_count": null,
      "outputs": [
        {
          "output_type": "execute_result",
          "data": {
            "application/vnd.google.colaboratory.intrinsic+json": {
              "type": "string"
            },
            "text/plain": [
              "'1/1/2017'"
            ]
          },
          "metadata": {
            "tags": []
          },
          "execution_count": 44
        }
      ]
    },
    {
      "cell_type": "code",
      "metadata": {
        "colab": {
          "base_uri": "https://localhost:8080/",
          "height": 235
        },
        "id": "YcRWrXtXX4v8",
        "outputId": "2eb380c0-05f8-44eb-c830-1aadcf361be6"
      },
      "source": [
        "#df.iloc[0,:]\n",
        "df.iloc[::,1:3]"
      ],
      "execution_count": null,
      "outputs": [
        {
          "output_type": "execute_result",
          "data": {
            "text/html": [
              "<div>\n",
              "<style scoped>\n",
              "    .dataframe tbody tr th:only-of-type {\n",
              "        vertical-align: middle;\n",
              "    }\n",
              "\n",
              "    .dataframe tbody tr th {\n",
              "        vertical-align: top;\n",
              "    }\n",
              "\n",
              "    .dataframe thead th {\n",
              "        text-align: right;\n",
              "    }\n",
              "</style>\n",
              "<table border=\"1\" class=\"dataframe\">\n",
              "  <thead>\n",
              "    <tr style=\"text-align: right;\">\n",
              "      <th></th>\n",
              "      <th>temperature</th>\n",
              "      <th>windspeed</th>\n",
              "    </tr>\n",
              "  </thead>\n",
              "  <tbody>\n",
              "    <tr>\n",
              "      <th>0</th>\n",
              "      <td>32</td>\n",
              "      <td>6</td>\n",
              "    </tr>\n",
              "    <tr>\n",
              "      <th>1</th>\n",
              "      <td>35</td>\n",
              "      <td>7</td>\n",
              "    </tr>\n",
              "    <tr>\n",
              "      <th>2</th>\n",
              "      <td>28</td>\n",
              "      <td>2</td>\n",
              "    </tr>\n",
              "    <tr>\n",
              "      <th>3</th>\n",
              "      <td>24</td>\n",
              "      <td>7</td>\n",
              "    </tr>\n",
              "    <tr>\n",
              "      <th>4</th>\n",
              "      <td>32</td>\n",
              "      <td>4</td>\n",
              "    </tr>\n",
              "    <tr>\n",
              "      <th>5</th>\n",
              "      <td>31</td>\n",
              "      <td>2</td>\n",
              "    </tr>\n",
              "  </tbody>\n",
              "</table>\n",
              "</div>"
            ],
            "text/plain": [
              "   temperature  windspeed\n",
              "0           32          6\n",
              "1           35          7\n",
              "2           28          2\n",
              "3           24          7\n",
              "4           32          4\n",
              "5           31          2"
            ]
          },
          "metadata": {
            "tags": []
          },
          "execution_count": 46
        }
      ]
    },
    {
      "cell_type": "code",
      "metadata": {
        "colab": {
          "base_uri": "https://localhost:8080/",
          "height": 235
        },
        "id": "I1pYRyNDX41k",
        "outputId": "9f259a30-cc87-4e24-f13c-737a4dd93274"
      },
      "source": [
        "df.iloc[:,[0,1,2,3]]"
      ],
      "execution_count": null,
      "outputs": [
        {
          "output_type": "execute_result",
          "data": {
            "text/html": [
              "<div>\n",
              "<style scoped>\n",
              "    .dataframe tbody tr th:only-of-type {\n",
              "        vertical-align: middle;\n",
              "    }\n",
              "\n",
              "    .dataframe tbody tr th {\n",
              "        vertical-align: top;\n",
              "    }\n",
              "\n",
              "    .dataframe thead th {\n",
              "        text-align: right;\n",
              "    }\n",
              "</style>\n",
              "<table border=\"1\" class=\"dataframe\">\n",
              "  <thead>\n",
              "    <tr style=\"text-align: right;\">\n",
              "      <th></th>\n",
              "      <th>day</th>\n",
              "      <th>temperature</th>\n",
              "      <th>windspeed</th>\n",
              "      <th>event</th>\n",
              "    </tr>\n",
              "  </thead>\n",
              "  <tbody>\n",
              "    <tr>\n",
              "      <th>0</th>\n",
              "      <td>1/1/2017</td>\n",
              "      <td>32</td>\n",
              "      <td>6</td>\n",
              "      <td>Rain</td>\n",
              "    </tr>\n",
              "    <tr>\n",
              "      <th>1</th>\n",
              "      <td>1/2/2017</td>\n",
              "      <td>35</td>\n",
              "      <td>7</td>\n",
              "      <td>Sunny</td>\n",
              "    </tr>\n",
              "    <tr>\n",
              "      <th>2</th>\n",
              "      <td>1/3/2017</td>\n",
              "      <td>28</td>\n",
              "      <td>2</td>\n",
              "      <td>Snow</td>\n",
              "    </tr>\n",
              "    <tr>\n",
              "      <th>3</th>\n",
              "      <td>1/4/2017</td>\n",
              "      <td>24</td>\n",
              "      <td>7</td>\n",
              "      <td>Snow</td>\n",
              "    </tr>\n",
              "    <tr>\n",
              "      <th>4</th>\n",
              "      <td>1/5/2017</td>\n",
              "      <td>32</td>\n",
              "      <td>4</td>\n",
              "      <td>Rain</td>\n",
              "    </tr>\n",
              "    <tr>\n",
              "      <th>5</th>\n",
              "      <td>1/6/2017</td>\n",
              "      <td>31</td>\n",
              "      <td>2</td>\n",
              "      <td>Sunny</td>\n",
              "    </tr>\n",
              "  </tbody>\n",
              "</table>\n",
              "</div>"
            ],
            "text/plain": [
              "        day  temperature  windspeed  event\n",
              "0  1/1/2017           32          6   Rain\n",
              "1  1/2/2017           35          7  Sunny\n",
              "2  1/3/2017           28          2   Snow\n",
              "3  1/4/2017           24          7   Snow\n",
              "4  1/5/2017           32          4   Rain\n",
              "5  1/6/2017           31          2  Sunny"
            ]
          },
          "metadata": {
            "tags": []
          },
          "execution_count": 48
        }
      ]
    },
    {
      "cell_type": "code",
      "metadata": {
        "id": "bNyCWqs82_eT"
      },
      "source": [
        "# Read a dataframe\n",
        "\n",
        "df = pd.read_csv(\"/content/drive/MyDrive/Python/pandas/2_dataframe_basics/weather_data.csv\")\n",
        "df"
      ],
      "execution_count": null,
      "outputs": []
    },
    {
      "cell_type": "code",
      "metadata": {
        "id": "OcwOfyZ_u1ZW"
      },
      "source": [
        "\n",
        "df.loc['1/2/2017']\n",
        "\n",
        "df.loc['Snow']"
      ],
      "execution_count": null,
      "outputs": []
    },
    {
      "cell_type": "code",
      "metadata": {
        "id": "uUN5KAvXu1jl"
      },
      "source": [
        ""
      ],
      "execution_count": null,
      "outputs": []
    },
    {
      "cell_type": "markdown",
      "metadata": {
        "id": "IZEpNpxmDTSc"
      },
      "source": [
        "# **Copy**\n",
        "* **copy()**  Method creates an independent copy of a pandas object"
      ]
    },
    {
      "cell_type": "code",
      "metadata": {
        "id": "S_iYskjpDV2D"
      },
      "source": [
        ""
      ],
      "execution_count": null,
      "outputs": []
    },
    {
      "cell_type": "code",
      "metadata": {
        "id": "4v9_x5luDV81"
      },
      "source": [
        ""
      ],
      "execution_count": null,
      "outputs": []
    },
    {
      "cell_type": "markdown",
      "metadata": {
        "id": "zWNurChWKzHC"
      },
      "source": [
        "___\n",
        "___\n",
        "___\n",
        "# **Melt**\n",
        "___\n",
        "___\n",
        "___"
      ]
    },
    {
      "cell_type": "code",
      "metadata": {
        "id": "GtGIBATB-rnm"
      },
      "source": [
        "import pandas as pd\n",
        "df = pd.read_csv(\"/content/drive/MyDrive/Python/pandas/11_melt/weather.csv\")\n",
        "df"
      ],
      "execution_count": null,
      "outputs": []
    },
    {
      "cell_type": "code",
      "metadata": {
        "id": "SUpUHvVd-rry"
      },
      "source": [
        "melted = pd.melt(df, id_vars=[\"day\"], var_name='city', value_name='temperature')\n",
        "melted"
      ],
      "execution_count": null,
      "outputs": []
    },
    {
      "cell_type": "markdown",
      "metadata": {
        "id": "joccI0p-LDEr"
      },
      "source": [
        "___\n",
        "___\n",
        "___\n",
        "# **Stock**\n",
        "___\n",
        "___\n",
        "___"
      ]
    },
    {
      "cell_type": "code",
      "metadata": {
        "id": "1cU5QBMO-rv2"
      },
      "source": [
        "import pandas as pd\n",
        "df = pd.read_excel(\"/content/drive/MyDrive/Python/pandas/12_stack/stocks.xlsx\",header=[0,1])\n",
        "df"
      ],
      "execution_count": null,
      "outputs": []
    },
    {
      "cell_type": "code",
      "metadata": {
        "id": "lG0UZ87H-ryu"
      },
      "source": [
        "df.stack()"
      ],
      "execution_count": null,
      "outputs": []
    },
    {
      "cell_type": "code",
      "metadata": {
        "id": "Nfg78nM5-r1X"
      },
      "source": [
        "df.stack(level=0)"
      ],
      "execution_count": null,
      "outputs": []
    },
    {
      "cell_type": "code",
      "metadata": {
        "id": "IZ74cS22-r4G"
      },
      "source": [
        "df_stacked=df.stack()\n",
        "df_stacked"
      ],
      "execution_count": null,
      "outputs": []
    },
    {
      "cell_type": "code",
      "metadata": {
        "id": "mVBm4rPU-r6x"
      },
      "source": [
        "df_stacked.unstack()"
      ],
      "execution_count": null,
      "outputs": []
    },
    {
      "cell_type": "code",
      "metadata": {
        "id": "DXOxq7tB-r9Z"
      },
      "source": [
        "df2 = pd.read_excel(\"/content/drive/MyDrive/Python/pandas/12_stack/stocks_3_levels.xlsx\",header=[0,1,2])\n",
        "df2"
      ],
      "execution_count": null,
      "outputs": []
    },
    {
      "cell_type": "code",
      "metadata": {
        "id": "sI0G5hrV-sAH"
      },
      "source": [
        "df2.stack()"
      ],
      "execution_count": null,
      "outputs": []
    },
    {
      "cell_type": "code",
      "metadata": {
        "id": "t2dy13zQ-sDH"
      },
      "source": [
        "df2.stack(level=0)"
      ],
      "execution_count": null,
      "outputs": []
    },
    {
      "cell_type": "code",
      "metadata": {
        "id": "0VtWf10E-sHd"
      },
      "source": [
        "df2.stack(level=1)"
      ],
      "execution_count": null,
      "outputs": []
    },
    {
      "cell_type": "markdown",
      "metadata": {
        "id": "HXVaQtgNruTY"
      },
      "source": [
        "___\n",
        "___\n",
        "___\n",
        "## **CrossTab**\n",
        "___\n",
        "___\n",
        "___\n"
      ]
    },
    {
      "cell_type": "code",
      "metadata": {
        "id": "1_Qhej1w-sKU"
      },
      "source": [
        "import pandas as pd\n",
        "df = pd.read_excel(\"survey.xls\")\n",
        "df"
      ],
      "execution_count": null,
      "outputs": []
    },
    {
      "cell_type": "code",
      "metadata": {
        "id": "w-Rf7Ogo-sNH"
      },
      "source": [
        "\n",
        "pd.crosstab(df.Nationality,df.Handedness)"
      ],
      "execution_count": null,
      "outputs": []
    },
    {
      "cell_type": "code",
      "metadata": {
        "id": "a5MQAQW7-sQB"
      },
      "source": [
        "\n",
        "pd.crosstab(df.Sex,df.Handedness)"
      ],
      "execution_count": null,
      "outputs": []
    },
    {
      "cell_type": "code",
      "metadata": {
        "id": "mXh6DdHj-sSq"
      },
      "source": [
        "# Margins\n",
        "pd.crosstab(df.Sex,df.Handedness, margins=True)"
      ],
      "execution_count": null,
      "outputs": []
    },
    {
      "cell_type": "code",
      "metadata": {
        "id": "iXFClvOz-sVP"
      },
      "source": [
        "# Multi Index Column and Rows\n",
        "pd.crosstab(df.Sex, [df.Handedness,df.Nationality], margins=True)"
      ],
      "execution_count": null,
      "outputs": []
    },
    {
      "cell_type": "code",
      "metadata": {
        "id": "tw5Tv9i6-sYN"
      },
      "source": [
        "# \n",
        "pd.crosstab([df.Nationality, df.Sex], [df.Handedness], margins=True)"
      ],
      "execution_count": null,
      "outputs": []
    },
    {
      "cell_type": "code",
      "metadata": {
        "id": "OLJw3FXe-scp"
      },
      "source": [
        "# Normalize\n",
        "pd.crosstab(df.Sex, df.Handedness, normalize='index')"
      ],
      "execution_count": null,
      "outputs": []
    },
    {
      "cell_type": "code",
      "metadata": {
        "id": "Pibt9l0x-sfc"
      },
      "source": [
        "# Aggfunc and Values\n",
        "import numpy as np\n",
        "pd.crosstab(df.Sex, df.Handedness, values=df.Age, aggfunc=np.average)"
      ],
      "execution_count": null,
      "outputs": []
    },
    {
      "cell_type": "markdown",
      "metadata": {
        "id": "bQBXj-26Tk1d"
      },
      "source": [
        "___\n",
        "___\n",
        "___\n",
        "# **DatetimeIndex**\n",
        "___\n",
        "___\n",
        "___"
      ]
    },
    {
      "cell_type": "code",
      "metadata": {
        "id": "qP84kSQ-S6JG"
      },
      "source": [
        "import pandas as pd\n",
        "df = pd.read_csv(\"aapl.csv\",parse_dates=[\"Date\"], index_col=\"Date\")\n",
        "df.head(2)"
      ],
      "execution_count": null,
      "outputs": []
    },
    {
      "cell_type": "code",
      "metadata": {
        "id": "uBFLMEygS6NS"
      },
      "source": [
        "\n",
        "df.index"
      ],
      "execution_count": null,
      "outputs": []
    },
    {
      "cell_type": "code",
      "metadata": {
        "id": "Zwpy0t9sS6R0"
      },
      "source": [
        "# What is DatetimeIndex? Benefits of it\n",
        "# Partial Date Index: Select Specific Months Data\n",
        "df['2017-06-30']"
      ],
      "execution_count": null,
      "outputs": []
    },
    {
      "cell_type": "code",
      "metadata": {
        "id": "5_XVBhliS6V3"
      },
      "source": [
        "\n",
        "df[\"2017-01\"]"
      ],
      "execution_count": null,
      "outputs": []
    },
    {
      "cell_type": "code",
      "metadata": {
        "id": "qPk887qTS6aM"
      },
      "source": [
        "\n",
        "df['2017-06'].head() "
      ],
      "execution_count": null,
      "outputs": []
    },
    {
      "cell_type": "code",
      "metadata": {
        "id": "Z_rxrn8US6d2"
      },
      "source": [
        "\n",
        "df['2017-06'].Close.mean()"
      ],
      "execution_count": null,
      "outputs": []
    },
    {
      "cell_type": "code",
      "metadata": {
        "id": "t0_8rcCkS6ik"
      },
      "source": [
        "\n",
        "df['2017'].head(2) "
      ],
      "execution_count": null,
      "outputs": []
    },
    {
      "cell_type": "code",
      "metadata": {
        "id": "ZbaJL3YbS6ma"
      },
      "source": [
        "# Select Date Range\n",
        "df['2017-01-08':'2017-01-03']"
      ],
      "execution_count": null,
      "outputs": []
    },
    {
      "cell_type": "code",
      "metadata": {
        "id": "Y2wR1oBgS6p3"
      },
      "source": [
        "\n",
        "df['2017-01']"
      ],
      "execution_count": null,
      "outputs": []
    },
    {
      "cell_type": "code",
      "metadata": {
        "id": "0-WnPHEWS6s8"
      },
      "source": [
        "# Resampling\n",
        "df['Close'].resample('M').mean().head()"
      ],
      "execution_count": null,
      "outputs": []
    },
    {
      "cell_type": "code",
      "metadata": {
        "id": "6jZTcdTkS6wF"
      },
      "source": [
        "\n",
        "df['2016-07']"
      ],
      "execution_count": null,
      "outputs": []
    },
    {
      "cell_type": "code",
      "metadata": {
        "id": "8UqVSroYS6zV"
      },
      "source": [
        "%matplotlib inline\n",
        "df['Close'].plot()"
      ],
      "execution_count": null,
      "outputs": []
    },
    {
      "cell_type": "code",
      "metadata": {
        "id": "e7jgYisPS63R"
      },
      "source": [
        "df['Close'].resample('M').mean().plot(kind='bar')"
      ],
      "execution_count": null,
      "outputs": []
    },
    {
      "cell_type": "markdown",
      "metadata": {
        "id": "InSHmvTsVbz9"
      },
      "source": [
        "___\n",
        "___\n",
        "___\n",
        "...\n",
        "___\n",
        "___\n",
        "___"
      ]
    },
    {
      "cell_type": "code",
      "metadata": {
        "id": "OzAsVwVRS67A"
      },
      "source": [
        "df = pd.read_csv(\"aapl_no_dates.csv\")\n",
        "df.head()"
      ],
      "execution_count": null,
      "outputs": []
    },
    {
      "cell_type": "code",
      "metadata": {
        "id": "Bda_6DFjS6-l"
      },
      "source": [
        "rng = pd.date_range(start=\"6/1/2016\",end=\"6/30/2016\",freq='B')\n",
        "rng"
      ],
      "execution_count": null,
      "outputs": []
    },
    {
      "cell_type": "code",
      "metadata": {
        "id": "C6vjfSSvS7Cq"
      },
      "source": [
        "df.set_index(rng, inplace=True)\n",
        "df.head()"
      ],
      "execution_count": null,
      "outputs": []
    },
    {
      "cell_type": "code",
      "metadata": {
        "id": "G31KPyg3S7F3"
      },
      "source": [
        "# Finding missing dates from datetimeindex\n",
        "daily_index = pd.date_range(start=\"6/1/2016\",end=\"6/30/2016\",freq='D')\n",
        "daily_index"
      ],
      "execution_count": null,
      "outputs": []
    },
    {
      "cell_type": "code",
      "metadata": {
        "id": "DkcoZFiXS7JA"
      },
      "source": [
        "\n",
        "daily_index.difference(df.index)"
      ],
      "execution_count": null,
      "outputs": []
    },
    {
      "cell_type": "code",
      "metadata": {
        "id": "tk3TvA3US7Md"
      },
      "source": [
        "# Benefits of having DatetimeIndex\n",
        "%matplotlib inline\n",
        "df.Close.plot()"
      ],
      "execution_count": null,
      "outputs": []
    },
    {
      "cell_type": "code",
      "metadata": {
        "id": "XQxHcO2BS7Pi"
      },
      "source": [
        "df[\"2016-06-01\":\"2016-06-10\"].Close.mean()"
      ],
      "execution_count": null,
      "outputs": []
    },
    {
      "cell_type": "code",
      "metadata": {
        "id": "29cU88XJS7VU"
      },
      "source": [
        "# asfreq\n",
        "df.index"
      ],
      "execution_count": null,
      "outputs": []
    },
    {
      "cell_type": "code",
      "metadata": {
        "id": "LTyvs4kmS7Yn"
      },
      "source": [
        "df.asfreq('D',method='pad')"
      ],
      "execution_count": null,
      "outputs": []
    },
    {
      "cell_type": "code",
      "metadata": {
        "id": "Ec2i_NwcS7cZ"
      },
      "source": [
        "\n",
        "df.asfreq('W',method='pad')"
      ],
      "execution_count": null,
      "outputs": []
    },
    {
      "cell_type": "code",
      "metadata": {
        "id": "8qKD3ZkVS7f4"
      },
      "source": [
        "\n",
        "df.asfreq('H',method='pad')"
      ],
      "execution_count": null,
      "outputs": []
    },
    {
      "cell_type": "code",
      "metadata": {
        "id": "jAiJoerhS7jQ"
      },
      "source": [
        "# generating DatetimeIndex with periods argument\n",
        "rng = pd.date_range('1/1/2011', periods=72, freq='H')\n",
        "rng"
      ],
      "execution_count": null,
      "outputs": []
    },
    {
      "cell_type": "code",
      "metadata": {
        "id": "YJD33XJ_S7mr"
      },
      "source": [
        "import numpy as np\n",
        "ts = pd.Series(np.random.randint(0,10,len(rng)), index=rng)\n",
        "ts.head(20)"
      ],
      "execution_count": null,
      "outputs": []
    },
    {
      "cell_type": "markdown",
      "metadata": {
        "id": "vsonBQHsXqM5"
      },
      "source": [
        "___\n",
        "___\n",
        "___"
      ]
    },
    {
      "cell_type": "code",
      "metadata": {
        "id": "7NgHoPmQS7py"
      },
      "source": [
        "import pandas as pd\n",
        "df = pd.read_csv(\"aapl_no_dates.csv\")\n",
        "df.head()"
      ],
      "execution_count": null,
      "outputs": []
    },
    {
      "cell_type": "code",
      "metadata": {
        "id": "CNHI7bsQS7tE"
      },
      "source": [
        "rng = pd.date_range(start=\"7/1/2017\", end=\"7/21/2017\", freq='B')\n",
        "rng"
      ],
      "execution_count": null,
      "outputs": []
    },
    {
      "cell_type": "code",
      "metadata": {
        "id": "pr0RBByLS7wj"
      },
      "source": [
        "#Using 'B' frequency is not going to help because 4th July was holiday and 'B' is not taking that into account. It only accounts for weekends\n",
        "#Using CustomBusinessDay to generate US holidays calendar frequency\n",
        "\n",
        "from pandas.tseries.holiday import USFederalHolidayCalendar\n",
        "from pandas.tseries.offsets import CustomBusinessDay\n",
        "\n",
        "us_cal = CustomBusinessDay(calendar=USFederalHolidayCalendar())\n",
        "\n",
        "rng = pd.date_range(start=\"7/1/2017\",end=\"7/23/2017\", freq=us_cal)\n",
        "rng"
      ],
      "execution_count": null,
      "outputs": []
    },
    {
      "cell_type": "code",
      "metadata": {
        "id": "5ZQkxrGAS7z9"
      },
      "source": [
        "df.set_index(rng,inplace=True)\n",
        "df.head()"
      ],
      "execution_count": null,
      "outputs": []
    },
    {
      "cell_type": "markdown",
      "metadata": {
        "id": "RaVVJTlKYTmZ"
      },
      "source": [
        "You can define your own calendar using AbstractHolidayCalendar as shown below. USFederalHolidayCalendar is the only calendar available in pandas library and it serves as an example for those who want to write their own custom calendars. Here is the link for USFederalHolidayCalendar implementation https://github.com/pandas-dev/pandas/blob/master/pandas/tseries/holiday.py"
      ]
    },
    {
      "cell_type": "code",
      "metadata": {
        "id": "Do6VqJOBS73n"
      },
      "source": [
        "# AbstractHolidayCalendar\n",
        "from pandas.tseries.holiday import AbstractHolidayCalendar, nearest_workday, Holiday\n",
        "class myCalendar(AbstractHolidayCalendar):\n",
        "    rules = [\n",
        "        Holiday('My Birth Day', month=4, day=15),#, observance=nearest_workday),\n",
        "    ]\n",
        "    \n",
        "my_bday = CustomBusinessDay(calendar=myCalendar())\n",
        "pd.date_range('4/1/2017','4/30/2017',freq=my_bday)"
      ],
      "execution_count": null,
      "outputs": []
    },
    {
      "cell_type": "code",
      "metadata": {
        "id": "rKCmGflxS77K"
      },
      "source": [
        "# CustomBusinessDay\n",
        "# Weekend in egypt is Friday and Saturday. Sunday is just a normal weekday and you can handle this custom week \n",
        "# schedule using CystomBysinessDay with weekmask as shown below\n",
        "\n",
        "egypt_weekdays = \"Sun Mon Tue Wed Thu\"\n",
        "\n",
        "b = CustomBusinessDay(weekmask=egypt_weekdays)\n",
        "\n",
        "pd.date_range(start=\"7/1/2017\",periods=20,freq=b)"
      ],
      "execution_count": null,
      "outputs": []
    },
    {
      "cell_type": "code",
      "metadata": {
        "id": "16uj8T58S7-q"
      },
      "source": [
        "# You can also add holidays to this custom business day frequency\n",
        "\n",
        "b = CustomBusinessDay(holidays=['2017-07-04', '2017-07-10'], weekmask=egypt_weekdays)\n",
        "pd.date_range(start=\"7/1/2017\",periods=20,freq=b)"
      ],
      "execution_count": null,
      "outputs": []
    },
    {
      "cell_type": "code",
      "metadata": {
        "id": "eSsQP6FtS8CN"
      },
      "source": [
        "# Mathematical operations on date object using custom business day\n",
        "from datetime import datetime\n",
        "dt = datetime(2017,7,9)\n",
        "dt"
      ],
      "execution_count": null,
      "outputs": []
    },
    {
      "cell_type": "code",
      "metadata": {
        "id": "NYfSrNwgS8Gp"
      },
      "source": [
        "dt + 1*b"
      ],
      "execution_count": null,
      "outputs": []
    },
    {
      "cell_type": "markdown",
      "metadata": {
        "id": "qjo_5MKoZVXC"
      },
      "source": [
        "___\n",
        "___\n",
        "___"
      ]
    },
    {
      "cell_type": "code",
      "metadata": {
        "id": "FS9O8_mfS8KY"
      },
      "source": [
        "import pandas as pd\n",
        "dates = ['2017-01-05', 'Jan 5, 2017', '01/05/2017', '2017.01.05', '2017/01/05','20170105']\n",
        "pd.to_datetime(dates)"
      ],
      "execution_count": null,
      "outputs": []
    },
    {
      "cell_type": "code",
      "metadata": {
        "id": "bIjzHjCgS8OI"
      },
      "source": [
        "dt = ['2017-01-05 2:30:00 PM', 'Jan 5, 2017 14:30:00', '01/05/2016', '2017.01.05', '2017/01/05','20170105']\n",
        "pd.to_datetime(dt)"
      ],
      "execution_count": null,
      "outputs": []
    },
    {
      "cell_type": "code",
      "metadata": {
        "id": "JuDtIyMRS8SD"
      },
      "source": [
        "# European style dates with day first\n",
        "pd.to_datetime('30-12-2016')"
      ],
      "execution_count": null,
      "outputs": []
    },
    {
      "cell_type": "code",
      "metadata": {
        "id": "MBnI5Bh1S8We"
      },
      "source": [
        "\n",
        "pd.to_datetime('5-1-2016', dayfirst=True)"
      ],
      "execution_count": null,
      "outputs": []
    },
    {
      "cell_type": "code",
      "metadata": {
        "id": "7L2GPaPrS8aD"
      },
      "source": [
        "# Custom date time format\n",
        "pd.to_datetime('2017$01$05', format='%Y$%m$%d')"
      ],
      "execution_count": null,
      "outputs": []
    },
    {
      "cell_type": "code",
      "metadata": {
        "id": "IlR294wFS8dg"
      },
      "source": [
        "pd.to_datetime('2017#01#05', format='%Y#%m#%d')"
      ],
      "execution_count": null,
      "outputs": []
    },
    {
      "cell_type": "code",
      "metadata": {
        "id": "odDrO81PS8g-"
      },
      "source": [
        "# Handling invalid dates\n",
        "\n",
        "pd.to_datetime(['2017-01-05', 'Jan 6, 2017', 'abc'], errors='ignore')"
      ],
      "execution_count": null,
      "outputs": []
    },
    {
      "cell_type": "code",
      "metadata": {
        "id": "BQB55_O3S8kd"
      },
      "source": [
        "pd.to_datetime(['2017-01-05', 'Jan 6, 2017', 'abc'], errors='coerce')"
      ],
      "execution_count": null,
      "outputs": []
    },
    {
      "cell_type": "code",
      "metadata": {
        "id": "i6w78mk7S8n_"
      },
      "source": [
        "# Epoch or Unix time means number of seconds that have passed since Jan 1, 1970 00:00:00 UTC time\n",
        "current_epoch = 1501324478\n",
        "pd.to_datetime(current_epoch, unit='s')"
      ],
      "execution_count": null,
      "outputs": []
    },
    {
      "cell_type": "code",
      "metadata": {
        "id": "7Ul8K3LMS8sY"
      },
      "source": [
        "pd.to_datetime(current_epoch*1000, unit='ms')"
      ],
      "execution_count": null,
      "outputs": []
    },
    {
      "cell_type": "code",
      "metadata": {
        "id": "a4NdEZZQS8v4"
      },
      "source": [
        "t = pd.to_datetime([current_epoch], unit='s')\n",
        "t"
      ],
      "execution_count": null,
      "outputs": []
    },
    {
      "cell_type": "code",
      "metadata": {
        "id": "rMbPNT4vS8zW"
      },
      "source": [
        "t.view('int64')"
      ],
      "execution_count": null,
      "outputs": []
    },
    {
      "cell_type": "markdown",
      "metadata": {
        "id": "haI2H1JAayjc"
      },
      "source": [
        "Pandas Time Series Analysis: Period and PeriodIndex\n",
        "___\n",
        "___\n",
        "___"
      ]
    },
    {
      "cell_type": "code",
      "metadata": {
        "id": "hdbeDP3oS82v"
      },
      "source": [
        "import pandas as pd\n",
        "y = pd.Period('2016')\n",
        "y"
      ],
      "execution_count": null,
      "outputs": []
    },
    {
      "cell_type": "code",
      "metadata": {
        "id": "CyOaTqWeS86Y"
      },
      "source": [
        "# Yearly Period\n",
        "y.start_time"
      ],
      "execution_count": null,
      "outputs": []
    },
    {
      "cell_type": "code",
      "metadata": {
        "id": "1YMpvSCPS9DR"
      },
      "source": [
        "y.end_time"
      ],
      "execution_count": null,
      "outputs": []
    },
    {
      "cell_type": "code",
      "metadata": {
        "id": "6LmpaXAgS9G2"
      },
      "source": [
        "y.is_leap_year"
      ],
      "execution_count": null,
      "outputs": []
    },
    {
      "cell_type": "code",
      "metadata": {
        "id": "f5gfeJF0S9K9"
      },
      "source": [
        "# Monthly Period\n",
        "m = pd.Period('2017-12')\n",
        "m"
      ],
      "execution_count": null,
      "outputs": []
    },
    {
      "cell_type": "code",
      "metadata": {
        "id": "_RJAtEO1S9Pv"
      },
      "source": [
        "m.start_time"
      ],
      "execution_count": null,
      "outputs": []
    },
    {
      "cell_type": "code",
      "metadata": {
        "id": "E5M5ekdpS9UA"
      },
      "source": [
        "m.end_time"
      ],
      "execution_count": null,
      "outputs": []
    },
    {
      "cell_type": "code",
      "metadata": {
        "id": "4CI_3DttS9Xi"
      },
      "source": [
        "m+1"
      ],
      "execution_count": null,
      "outputs": []
    },
    {
      "cell_type": "code",
      "metadata": {
        "id": "Eh8K9hfMS9d-"
      },
      "source": [
        "# Daily Period\n",
        "d = pd.Period('2016-02-28', freq='D')\n",
        "d"
      ],
      "execution_count": null,
      "outputs": []
    },
    {
      "cell_type": "code",
      "metadata": {
        "id": "GeDGfdCiS9lu"
      },
      "source": [
        "d.start_time"
      ],
      "execution_count": null,
      "outputs": []
    },
    {
      "cell_type": "code",
      "metadata": {
        "id": "ahLhOHPlS9uV"
      },
      "source": [
        "d.end_time"
      ],
      "execution_count": null,
      "outputs": []
    },
    {
      "cell_type": "code",
      "metadata": {
        "id": "I7roRtUBS91P"
      },
      "source": [
        "d+1"
      ],
      "execution_count": null,
      "outputs": []
    },
    {
      "cell_type": "code",
      "metadata": {
        "id": "gYIL6T7c-siX"
      },
      "source": [
        "# Hourly Period\n",
        "h = pd.Period('2017-08-15 23:00:00',freq='H')\n",
        "h"
      ],
      "execution_count": null,
      "outputs": []
    },
    {
      "cell_type": "code",
      "metadata": {
        "id": "Xe1uQcvh-sla"
      },
      "source": [
        "h+1"
      ],
      "execution_count": null,
      "outputs": []
    },
    {
      "cell_type": "code",
      "metadata": {
        "id": "KHsUEEF3dKBo"
      },
      "source": [
        "# Achieve same results using pandas offsets hour\n",
        "h+pd.offsets.Hour(1)"
      ],
      "execution_count": null,
      "outputs": []
    },
    {
      "cell_type": "code",
      "metadata": {
        "id": "AvF_QoqidKHC"
      },
      "source": [
        "# Quarterly Period\n",
        "q1= pd.Period('2017Q1', freq='Q-JAN')\n",
        "q1"
      ],
      "execution_count": null,
      "outputs": []
    },
    {
      "cell_type": "code",
      "metadata": {
        "id": "or7adTswdKMS"
      },
      "source": [
        "q1.start_time"
      ],
      "execution_count": null,
      "outputs": []
    },
    {
      "cell_type": "code",
      "metadata": {
        "id": "_TDRTwSpdKRC"
      },
      "source": [
        "q1.end_time"
      ],
      "execution_count": null,
      "outputs": []
    },
    {
      "cell_type": "code",
      "metadata": {
        "id": "s_aj_nypdKU3"
      },
      "source": [
        "# Use asfreq to convert period to a different frequency\n",
        "q1.asfreq('M',how='start')"
      ],
      "execution_count": null,
      "outputs": []
    },
    {
      "cell_type": "code",
      "metadata": {
        "id": "zrQBI3dDdKap"
      },
      "source": [
        "q1.asfreq('M',how='end')"
      ],
      "execution_count": null,
      "outputs": []
    },
    {
      "cell_type": "code",
      "metadata": {
        "id": "I2N3t5Y-dKfO"
      },
      "source": [
        "# Weekly Period\n",
        "w = pd.Period('2017-07-05',freq='W')\n",
        "w"
      ],
      "execution_count": null,
      "outputs": []
    },
    {
      "cell_type": "code",
      "metadata": {
        "id": "ke1FefAidKlb"
      },
      "source": [
        "w-1"
      ],
      "execution_count": null,
      "outputs": []
    },
    {
      "cell_type": "code",
      "metadata": {
        "id": "Xo21zJ7ldKp2"
      },
      "source": [
        "w2 = pd.Period('2017-08-15',freq='W')\n",
        "w2"
      ],
      "execution_count": null,
      "outputs": []
    },
    {
      "cell_type": "code",
      "metadata": {
        "id": "lHBORZ2fdKuM"
      },
      "source": [
        "w2-w"
      ],
      "execution_count": null,
      "outputs": []
    },
    {
      "cell_type": "code",
      "metadata": {
        "id": "T1vbo1LGdKzG"
      },
      "source": [
        "r = pd.period_range('2011', '2017', freq='q')\n",
        "r"
      ],
      "execution_count": null,
      "outputs": []
    },
    {
      "cell_type": "code",
      "metadata": {
        "id": "B0giArIPdK3T"
      },
      "source": [
        "r[0].start_time"
      ],
      "execution_count": null,
      "outputs": []
    },
    {
      "cell_type": "code",
      "metadata": {
        "id": "d6QF3JKCdK7j"
      },
      "source": [
        "r[0].end_time"
      ],
      "execution_count": null,
      "outputs": []
    },
    {
      "cell_type": "code",
      "metadata": {
        "id": "c04GdD56dK_n"
      },
      "source": [
        "# Walmart's fiscal year ends in Jan, below is how you generate walmart's fiscal quarters between 2011 and 2017\n",
        "r = pd.period_range('2011', '2017', freq='q-jan')\n",
        "r"
      ],
      "execution_count": null,
      "outputs": []
    },
    {
      "cell_type": "code",
      "metadata": {
        "id": "ddVuKm6mdLDl"
      },
      "source": [
        "r[0].start_time"
      ],
      "execution_count": null,
      "outputs": []
    },
    {
      "cell_type": "code",
      "metadata": {
        "id": "jau17vjTdLH3"
      },
      "source": [
        "r[0].end_time"
      ],
      "execution_count": null,
      "outputs": []
    },
    {
      "cell_type": "code",
      "metadata": {
        "id": "hR_8QSeLdLL0"
      },
      "source": [
        "r = pd.PeriodIndex(start='2016-01', freq='3M', periods=10)\n",
        "r"
      ],
      "execution_count": null,
      "outputs": []
    },
    {
      "cell_type": "code",
      "metadata": {
        "id": "9RAUrCgodLQL"
      },
      "source": [
        "import numpy as np\n",
        "ps = pd.Series(np.random.randn(len(idx)), idx)\n",
        "ps"
      ],
      "execution_count": null,
      "outputs": []
    },
    {
      "cell_type": "code",
      "metadata": {
        "id": "uROkt54MdLUL"
      },
      "source": [
        "# Partial Indexing\n",
        "ps['2016']"
      ],
      "execution_count": null,
      "outputs": []
    },
    {
      "cell_type": "code",
      "metadata": {
        "id": "uq9quWLgdLYb"
      },
      "source": [
        "ps['2016':'2017']"
      ],
      "execution_count": null,
      "outputs": []
    },
    {
      "cell_type": "code",
      "metadata": {
        "id": "xEzr9ji-dLch"
      },
      "source": [
        "pst = ps.to_timestamp()\n",
        "pst"
      ],
      "execution_count": null,
      "outputs": []
    },
    {
      "cell_type": "code",
      "metadata": {
        "id": "3R3eW-B7dLgx"
      },
      "source": [
        "pst.index"
      ],
      "execution_count": null,
      "outputs": []
    },
    {
      "cell_type": "code",
      "metadata": {
        "id": "m0ih6W0vdLlB"
      },
      "source": [
        "ps = pst.to_period()\n",
        "ps"
      ],
      "execution_count": null,
      "outputs": []
    },
    {
      "cell_type": "code",
      "metadata": {
        "id": "AefeE-vQdLtF"
      },
      "source": [
        "ps.index"
      ],
      "execution_count": null,
      "outputs": []
    },
    {
      "cell_type": "code",
      "metadata": {
        "id": "vKqtT5eedLxQ"
      },
      "source": [
        "# Processing Wal Mart's Financials\n",
        "import pandas as pd\n",
        "df = pd.read_csv(\"wmt.csv\")\n",
        "df"
      ],
      "execution_count": null,
      "outputs": []
    },
    {
      "cell_type": "code",
      "metadata": {
        "id": "3_Zh8uDwdL1a"
      },
      "source": [
        "df.set_index(\"Line Item\",inplace=True)\n",
        "df = df.T\n",
        "df"
      ],
      "execution_count": null,
      "outputs": []
    },
    {
      "cell_type": "code",
      "metadata": {
        "id": "TxxPsqrldL5n"
      },
      "source": [
        "df.index = pd.PeriodIndex(df.index, freq=\"Q-JAN\")\n",
        "df"
      ],
      "execution_count": null,
      "outputs": []
    },
    {
      "cell_type": "code",
      "metadata": {
        "id": "Yej2dpKwdL9u"
      },
      "source": [
        "df.index"
      ],
      "execution_count": null,
      "outputs": []
    },
    {
      "cell_type": "code",
      "metadata": {
        "id": "9aq09SoKdMBx"
      },
      "source": [
        "df.index[0].start_time"
      ],
      "execution_count": null,
      "outputs": []
    },
    {
      "cell_type": "code",
      "metadata": {
        "id": "qdf1XS88dMF5"
      },
      "source": [
        "# Add start date end date columns to dataframe\n",
        "df[\"Start Date\"]=df.index.map(lambda x: x.start_time)\n",
        "df"
      ],
      "execution_count": null,
      "outputs": []
    },
    {
      "cell_type": "code",
      "metadata": {
        "id": "1Nk5gCVQdMJ5"
      },
      "source": [
        "df[\"End Date\"]=df.index.map(lambda x: x.end_time)\n",
        "df"
      ],
      "execution_count": null,
      "outputs": []
    },
    {
      "cell_type": "markdown",
      "metadata": {
        "id": "_Kep7NG2gwJc"
      },
      "source": [
        "Pandas Time Series Analysis: Handling Time Zones\n",
        "\n",
        "We live in a world with different timezones. If you are having morning coffee in new york at 9 AM it might be a time for dinner in Mumbai, India because it would be 6.30 PM there. Handling time zone could become necessity while doing time series analysis in Pandas\n",
        "___\n",
        "___\n",
        "___\n"
      ]
    },
    {
      "cell_type": "code",
      "metadata": {
        "id": "1jSuxuEDdMOM"
      },
      "source": [
        "import pandas as pd\n",
        "df = pd.read_csv(\"msft.csv\", header=1,index_col='Date Time',parse_dates=True)\n",
        "df"
      ],
      "execution_count": null,
      "outputs": []
    },
    {
      "cell_type": "code",
      "metadata": {
        "id": "s5PgQ1V_dMST"
      },
      "source": [
        "df.index"
      ],
      "execution_count": null,
      "outputs": []
    },
    {
      "cell_type": "code",
      "metadata": {
        "id": "uPK4uN1rdMWa"
      },
      "source": [
        "Two types of datetimes in python\n",
        "Naive (no timezone awareness)\n",
        "Timezone aware datetime\n",
        "Convert naive DatetimeIndex to timezone aware DatetimeIndex using tz_localize\n",
        "\n",
        "df.tz_localize(tz='US/Eastern')\n",
        "df"
      ],
      "execution_count": null,
      "outputs": []
    },
    {
      "cell_type": "code",
      "metadata": {
        "id": "r8deY6I5dMbb"
      },
      "source": [
        "df.index = df.index.tz_localize(tz='US/Eastern')\n",
        "df.index"
      ],
      "execution_count": null,
      "outputs": []
    },
    {
      "cell_type": "code",
      "metadata": {
        "id": "vDCskr_tdMfu"
      },
      "source": [
        "# Convert to Berlin time using tz_convert\n",
        "df = df.tz_convert('Europe/Berlin')\n",
        "df"
      ],
      "execution_count": null,
      "outputs": []
    },
    {
      "cell_type": "code",
      "metadata": {
        "id": "KW0x2wa3dMlp"
      },
      "source": [
        "df.index"
      ],
      "execution_count": null,
      "outputs": []
    },
    {
      "cell_type": "code",
      "metadata": {
        "id": "K3uW38MYdMqQ"
      },
      "source": [
        "from pytz import all_timezones\n",
        "print (all_timezones)"
      ],
      "execution_count": null,
      "outputs": []
    },
    {
      "cell_type": "code",
      "metadata": {
        "id": "9jj9tE5zdMu9"
      },
      "source": [
        "# Convert to Mumbai time\n",
        "df.index = df.index.tz_convert('Asia/Calcutta') # tz database doesn't have any Mumbai timezone but calcutta and mumbai are both in same timezone so we will use that\n",
        "df"
      ],
      "execution_count": null,
      "outputs": []
    },
    {
      "cell_type": "code",
      "metadata": {
        "id": "BEyzXMCjdMz0"
      },
      "source": [
        "# Using timezones in date_range\n",
        "# (1) timezone using pytz\n",
        "london = pd.date_range('3/6/2012 00:09:00', periods=10, freq='H',tz='Europe/London')\n",
        "london"
      ],
      "execution_count": null,
      "outputs": []
    },
    {
      "cell_type": "code",
      "metadata": {
        "id": "VSq_zDy3dM4j"
      },
      "source": [
        "# (2) timezone using dateutil\n",
        "td = pd.date_range('3/6/2012 00:00', periods=10, freq='H',tz='dateutil/Europe/London')\n",
        "td"
      ],
      "execution_count": null,
      "outputs": []
    },
    {
      "cell_type": "code",
      "metadata": {
        "id": "Q_RAe551dM9F"
      },
      "source": [
        "# Pandas documentation indicates that difference between pytz timezone and dateutil timezones is\n",
        "# In pytz you can find a list of common (and less common) time zones using from pytz import common_timezones, all_timezones\n",
        "# dateutil uses the OS timezones so there isn’t a fixed list available. For common zones, the names are the same as pytz\n",
        "\n",
        "rng = pd.date_range(start=\"2017-08-22 09:00:00\",periods=10, freq='30min')\n",
        "s = pd.Series(range(10),index=rng)\n",
        "s"
      ],
      "execution_count": null,
      "outputs": []
    },
    {
      "cell_type": "code",
      "metadata": {
        "id": "_OHAi1ayiWPE"
      },
      "source": [
        "b = s.tz_localize(tz=\"Europe/Berlin\")\n",
        "b"
      ],
      "execution_count": null,
      "outputs": []
    },
    {
      "cell_type": "code",
      "metadata": {
        "id": "jS2r266LiWU9"
      },
      "source": [
        "b.index"
      ],
      "execution_count": null,
      "outputs": []
    },
    {
      "cell_type": "code",
      "metadata": {
        "id": "vRCycgLwiWZe"
      },
      "source": [
        "m = s.tz_localize(tz=\"Asia/Calcutta\")\n",
        "m.index"
      ],
      "execution_count": null,
      "outputs": []
    },
    {
      "cell_type": "code",
      "metadata": {
        "id": "eydut0ALiWd-"
      },
      "source": [
        "m"
      ],
      "execution_count": null,
      "outputs": []
    },
    {
      "cell_type": "code",
      "metadata": {
        "id": "B-0tTSXSiWli"
      },
      "source": [
        "# It will first convert individual timezones to UTC and then align datetimes to perform addition/subtraction etc. operations\n",
        "b + m "
      ],
      "execution_count": null,
      "outputs": []
    },
    {
      "cell_type": "markdown",
      "metadata": {
        "id": "FliQSBJ8C-KW"
      },
      "source": [
        "___\n",
        "___\n",
        "___"
      ]
    },
    {
      "cell_type": "code",
      "metadata": {
        "id": "nUeMUp7IiWqx"
      },
      "source": [
        "import pandas as pd\n",
        "df = pd.read_csv(\"fb.csv\",parse_dates=['Date'],index_col='Date')\n",
        "df"
      ],
      "execution_count": null,
      "outputs": []
    },
    {
      "cell_type": "code",
      "metadata": {
        "id": "zlhjrSqWDGuk"
      },
      "source": [
        "# Shift\n",
        "df.shift(1)"
      ],
      "execution_count": null,
      "outputs": []
    },
    {
      "cell_type": "code",
      "metadata": {
        "id": "vTKwTyyZDG0L"
      },
      "source": [
        "df.shift(-1)"
      ],
      "execution_count": null,
      "outputs": []
    },
    {
      "cell_type": "code",
      "metadata": {
        "id": "schp9Mg_DG6d"
      },
      "source": [
        "df['Prev Day Price'] = df['Price'].shift(1)\n",
        "df"
      ],
      "execution_count": null,
      "outputs": []
    },
    {
      "cell_type": "code",
      "metadata": {
        "id": "TAT4qc5GDG_q"
      },
      "source": [
        "df['Price Change'] = df['Price'] - df['Prev Day Price']\n",
        "df"
      ],
      "execution_count": null,
      "outputs": []
    },
    {
      "cell_type": "code",
      "metadata": {
        "id": "0yq-GeMEDHEz"
      },
      "source": [
        "df['5 day return'] =  (df['Price'] - df['Price'].shift(5))*100/df['Price'].shift(5)\n",
        "df"
      ],
      "execution_count": null,
      "outputs": []
    },
    {
      "cell_type": "code",
      "metadata": {
        "id": "GogkCdrmDHLy"
      },
      "source": [
        "df = df[['Price']]\n",
        "df"
      ],
      "execution_count": null,
      "outputs": []
    },
    {
      "cell_type": "code",
      "metadata": {
        "id": "2Mmqk5nuDHRv"
      },
      "source": [
        "# tshift\n",
        "df.index"
      ],
      "execution_count": null,
      "outputs": []
    },
    {
      "cell_type": "code",
      "metadata": {
        "id": "f8apRKuhDHWj"
      },
      "source": [
        "df.index = pd.date_range(start='2017-08-15',periods=10, freq='B')\n",
        "df"
      ],
      "execution_count": null,
      "outputs": []
    },
    {
      "cell_type": "code",
      "metadata": {
        "id": "RijAnrPYDHb5"
      },
      "source": [
        "df.index"
      ],
      "execution_count": null,
      "outputs": []
    },
    {
      "cell_type": "code",
      "metadata": {
        "id": "qzR0j_vkDHf-"
      },
      "source": [
        "df.tshift(1)"
      ],
      "execution_count": null,
      "outputs": []
    },
    {
      "cell_type": "code",
      "metadata": {
        "id": "IG-d941KDHkM"
      },
      "source": [
        ""
      ],
      "execution_count": null,
      "outputs": []
    }
  ]
}